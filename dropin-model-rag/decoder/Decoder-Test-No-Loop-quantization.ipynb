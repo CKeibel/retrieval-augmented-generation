{
 "cells": [
  {
   "cell_type": "markdown",
   "id": "d046900a-bbc6-4d36-8cfc-5f53200998e8",
   "metadata": {},
   "source": [
    "# Decoder-Test-No-Loop"
   ]
  },
  {
   "cell_type": "code",
   "execution_count": 1,
   "id": "24367544-92d3-41bd-b704-80bbae7a3664",
   "metadata": {},
   "outputs": [],
   "source": [
    "!pip install -U transformers sentencepiece bitsandbytes accelerate rouge_score langchain python-dotenv install -U \"ray\" --quiet"
   ]
  },
  {
   "cell_type": "code",
   "execution_count": 2,
   "id": "09831ee1-ad48-4bf7-aff3-fe9effca39b8",
   "metadata": {},
   "outputs": [],
   "source": [
    "import os\n",
    "from dotenv import load_dotenv\n",
    "\n",
    "load_dotenv()\n",
    "hf_auth = os.getenv(\"HF\")"
   ]
  },
  {
   "cell_type": "code",
   "execution_count": 3,
   "id": "c0d16f41-ce96-4d86-b28e-8b58c02b192a",
   "metadata": {},
   "outputs": [
    {
     "name": "stdout",
     "output_type": "stream",
     "text": [
      "Token will not been saved to git credential helper. Pass `add_to_git_credential=True` if you want to set the git credential as well.\n",
      "Token is valid (permission: read).\n",
      "Your token has been saved to /home/chkei001/.cache/huggingface/token\n",
      "Login successful\n"
     ]
    }
   ],
   "source": [
    "from huggingface_hub import login\n",
    "login(token=hf_auth)"
   ]
  },
  {
   "cell_type": "code",
   "execution_count": 4,
   "id": "333eaa96-a181-40d4-8463-d343181e913b",
   "metadata": {},
   "outputs": [
    {
     "data": {
      "text/plain": [
       "'cuda:0'"
      ]
     },
     "execution_count": 4,
     "metadata": {},
     "output_type": "execute_result"
    }
   ],
   "source": [
    "import torch\n",
    "\n",
    "device = \"cuda:0\" if torch.cuda.is_available() else \"cpu\"\n",
    "device"
   ]
  },
  {
   "cell_type": "markdown",
   "id": "f03e140a-372c-4e1d-b935-85446f0567fb",
   "metadata": {},
   "source": [
    "## Evaluator LLM (Llama 2 70b)"
   ]
  },
  {
   "cell_type": "code",
   "execution_count": 5,
   "id": "cac653ea-1e9d-4554-a963-8a08f7048cb2",
   "metadata": {},
   "outputs": [],
   "source": [
    "from torch import bfloat16\n",
    "from transformers import BitsAndBytesConfig\n",
    "\n",
    "evaluator_bnb_config = BitsAndBytesConfig(\n",
    "    load_in_4bit=True,\n",
    "    bnb_4bit_quant_type='nf4',\n",
    "    bnb_4bit_use_double_quant=True,\n",
    "    bnb_4bit_compute_dtype=bfloat16\n",
    ")"
   ]
  },
  {
   "cell_type": "code",
   "execution_count": 6,
   "id": "e0c37b78-928c-4b08-8352-30ce4530fd86",
   "metadata": {},
   "outputs": [],
   "source": [
    "from transformers import AutoConfig\n",
    "\n",
    "model_id = \"meta-llama/Llama-2-70b-chat-hf\"\n",
    "\n",
    "model_config = AutoConfig.from_pretrained(\n",
    "    model_id,\n",
    "    token=True\n",
    ")"
   ]
  },
  {
   "cell_type": "code",
   "execution_count": 7,
   "id": "9f47852e-98d7-4f6e-9020-66923c23bb01",
   "metadata": {},
   "outputs": [
    {
     "data": {
      "application/vnd.jupyter.widget-view+json": {
       "model_id": "beea4081a0e64e98a7e9363615e839bb",
       "version_major": 2,
       "version_minor": 0
      },
      "text/plain": [
       "Loading checkpoint shards:   0%|          | 0/15 [00:00<?, ?it/s]"
      ]
     },
     "metadata": {},
     "output_type": "display_data"
    },
    {
     "name": "stderr",
     "output_type": "stream",
     "text": [
      "/opt/conda/lib/python3.10/site-packages/transformers/utils/hub.py:374: FutureWarning: The `use_auth_token` argument is deprecated and will be removed in v5 of Transformers. Please use `token` instead.\n",
      "  warnings.warn(\n"
     ]
    }
   ],
   "source": [
    "from transformers import AutoModelForCausalLM, AutoTokenizer\n",
    "\n",
    "llama = AutoModelForCausalLM.from_pretrained(\n",
    "    model_id,\n",
    "    trust_remote_code=True,\n",
    "    config=model_config,\n",
    "    quantization_config=evaluator_bnb_config,\n",
    "    device_map='auto',\n",
    "    token=True\n",
    ")\n",
    "\n",
    "llama_tokenizer = AutoTokenizer.from_pretrained(\n",
    "    model_id,\n",
    "    token=True\n",
    ")"
   ]
  },
  {
   "cell_type": "code",
   "execution_count": 8,
   "id": "0204922f-90e3-4c61-95d0-c4f6167279d1",
   "metadata": {},
   "outputs": [
    {
     "name": "stderr",
     "output_type": "stream",
     "text": [
      "2023-12-07 07:51:25.122610: I tensorflow/core/platform/cpu_feature_guard.cc:193] This TensorFlow binary is optimized with oneAPI Deep Neural Network Library (oneDNN) to use the following CPU instructions in performance-critical operations:  AVX2 FMA\n",
      "To enable them in other operations, rebuild TensorFlow with the appropriate compiler flags.\n",
      "2023-12-07 07:51:25.954123: W tensorflow/compiler/xla/stream_executor/platform/default/dso_loader.cc:64] Could not load dynamic library 'libnvinfer.so.7'; dlerror: libnvinfer.so.7: cannot open shared object file: No such file or directory; LD_LIBRARY_PATH: /usr/local/nvidia/lib:/usr/local/nvidia/lib64\n",
      "2023-12-07 07:51:25.954278: W tensorflow/compiler/xla/stream_executor/platform/default/dso_loader.cc:64] Could not load dynamic library 'libnvinfer_plugin.so.7'; dlerror: libnvinfer_plugin.so.7: cannot open shared object file: No such file or directory; LD_LIBRARY_PATH: /usr/local/nvidia/lib:/usr/local/nvidia/lib64\n",
      "2023-12-07 07:51:25.954285: W tensorflow/compiler/tf2tensorrt/utils/py_utils.cc:38] TF-TRT Warning: Cannot dlopen some TensorRT libraries. If you would like to use Nvidia GPU with TensorRT, please make sure the missing libraries mentioned above are installed properly.\n"
     ]
    }
   ],
   "source": [
    "from transformers import pipeline\n",
    "\n",
    "pipe = pipeline(\n",
    "    model=llama,\n",
    "    tokenizer=llama_tokenizer,\n",
    "    return_full_text=True,  # langchain expects the full text\n",
    "    task='text-generation',\n",
    "    temperature=0.1,  # 'randomness' of outputs, 0.0 is the min and 1.0 the max\n",
    "    repetition_penalty=1.1  # without this output begins repeating\n",
    ")"
   ]
  },
  {
   "cell_type": "code",
   "execution_count": 9,
   "id": "7dafee91-486e-48c1-8fc9-71f16fcd530a",
   "metadata": {},
   "outputs": [],
   "source": [
    "from langchain import HuggingFacePipeline\n",
    "\n",
    "llm = HuggingFacePipeline(pipeline=pipe)"
   ]
  },
  {
   "cell_type": "markdown",
   "id": "a5c7b313-9ceb-4a07-9f4f-3a30927694c2",
   "metadata": {},
   "source": [
    "## Decoder Pipeline and evaluation"
   ]
  },
  {
   "cell_type": "code",
   "execution_count": 10,
   "id": "eb7d7b2d-5ca4-4f86-847d-c5f86187ffc6",
   "metadata": {},
   "outputs": [
    {
     "data": {
      "text/plain": [
       "DatasetDict({\n",
       "    train: Dataset({\n",
       "        features: ['id', 'title', 'context', 'question', 'answers'],\n",
       "        num_rows: 130319\n",
       "    })\n",
       "    validation: Dataset({\n",
       "        features: ['id', 'title', 'context', 'question', 'answers'],\n",
       "        num_rows: 11873\n",
       "    })\n",
       "})"
      ]
     },
     "execution_count": 10,
     "metadata": {},
     "output_type": "execute_result"
    }
   ],
   "source": [
    "from datasets import load_dataset\n",
    "\n",
    "ds = load_dataset(\"squad_v2\")\n",
    "ds"
   ]
  },
  {
   "cell_type": "code",
   "execution_count": 11,
   "id": "6151d6b1-ef4d-4a33-bd46-9abb38e474b5",
   "metadata": {},
   "outputs": [],
   "source": [
    "trn = ds[\"train\"]\n",
    "val = ds[\"validation\"]"
   ]
  },
  {
   "cell_type": "code",
   "execution_count": 12,
   "id": "ee002bbe-4a2c-4d6b-9d6a-117d6ab2915c",
   "metadata": {},
   "outputs": [],
   "source": [
    "from transformers import Pipeline, TextIteratorStreamer\n",
    "from threading import Thread\n",
    "\n",
    "class DecoderPipeline(Pipeline):\n",
    "    def _sanitize_parameters(self, **kwargs):\n",
    "        preprocess_kwargs = {}\n",
    "        return preprocess_kwargs, {}, {}\n",
    "\n",
    "    def preprocess(self, text):\n",
    "        # TODO: Prompt Template -> tokenizer.apply_chat_template\n",
    "        if self.tokenizer.pad_token is None:\n",
    "            tokenizer.add_special_tokens({'pad_token': '[PAD]'})\n",
    "        return self.tokenizer(text, padding=True, truncation=True, return_tensors=\"pt\").to(self.device)\n",
    "\n",
    "    def _forward(self, inputs):\n",
    "        streamer = TextIteratorStreamer(tokenizer, skip_prompt=True, skip_special_tokens=True)\n",
    "        generation_kwargs = dict(inputs, streamer=streamer, max_new_tokens=200)\n",
    "        thread = Thread(target=model.generate, kwargs=generation_kwargs)\n",
    "        thread.start()\n",
    "        generated_text = \"\"\n",
    "        for new_text in streamer:\n",
    "            generated_text += new_text\n",
    "        generated_text\n",
    "        return generated_text\n",
    "\n",
    "    def postprocess(self, outputs):\n",
    "        outputs = outputs.replace(\".\\n\", \" \")\n",
    "        outputs = outputs.replace(\"\\n\", \"\")\n",
    "        return outputs"
   ]
  },
  {
   "cell_type": "code",
   "execution_count": 13,
   "id": "b19b9264-9375-4bbd-b1db-654c95ae02fb",
   "metadata": {},
   "outputs": [],
   "source": [
    "def get_prompt(question, context):\n",
    "    return f\"\"\"Answer the following Question based on the Context only. Only answer from the Context. If you don't know the answer, say 'I don't know'.\n",
    "    question: {question}\\n\\n\n",
    "    context: {context}\\n\\n\n",
    "    Answer:\\n\"\"\""
   ]
  },
  {
   "cell_type": "code",
   "execution_count": 14,
   "id": "d9b7b04d-0d77-4007-816d-aae1fa4daf9f",
   "metadata": {},
   "outputs": [],
   "source": [
    "from langchain.evaluation import load_evaluator\n",
    "\n",
    "qa_evaluator = load_evaluator(\"context_qa\", llm=llm)\n",
    "\n",
    "def evaluate_context_qa(question, prediction, context, answer):\n",
    "    res = qa_evaluator.evaluate_strings(\n",
    "        input=question,\n",
    "        prediction=prediction,\n",
    "        context=context,\n",
    "        reference=answer # Answer\n",
    "    )\n",
    "    return res.get(\"score\")"
   ]
  },
  {
   "cell_type": "code",
   "execution_count": 15,
   "id": "72c355da-e6c2-4d3e-ae62-ec45df8c05b0",
   "metadata": {},
   "outputs": [],
   "source": [
    "correctness_evaluator = load_evaluator(\"labeled_criteria\", criteria=\"correctness\", llm=llm, requires_reference=True)\n",
    "\n",
    "def evaluate_correctness(prompt, prediction, context):\n",
    "    res = correctness_evaluator.evaluate_strings(\n",
    "        input=prompt,\n",
    "        prediction=prediction,\n",
    "        context=context,\n",
    "        reference=context # Answer\n",
    "    )\n",
    "    return res.get(\"score\"), res.get(\"reasoning\")"
   ]
  },
  {
   "cell_type": "markdown",
   "id": "235c792e-5f40-49d7-b266-0621fd49bb00",
   "metadata": {},
   "source": [
    "### HuggingFaceH4/zephyr-7b-beta"
   ]
  },
  {
   "cell_type": "code",
   "execution_count": 16,
   "id": "29ceae98-3945-4642-8394-9075399eaa8f",
   "metadata": {},
   "outputs": [
    {
     "data": {
      "application/vnd.jupyter.widget-view+json": {
       "model_id": "41173e216cfd40bcb3de62bec66ee0e6",
       "version_major": 2,
       "version_minor": 0
      },
      "text/plain": [
       "Loading checkpoint shards:   0%|          | 0/8 [00:00<?, ?it/s]"
      ]
     },
     "metadata": {},
     "output_type": "display_data"
    },
    {
     "name": "stderr",
     "output_type": "stream",
     "text": [
      "  0%|          | 0/120 [00:00<?, ?it/s]Asking to truncate to max_length but no maximum length is provided and the model has no predefined maximum length. Default to no truncation.\n",
      "100%|██████████| 120/120 [43:11<00:00, 21.59s/it] \n"
     ]
    }
   ],
   "source": [
    "from tqdm import tqdm\n",
    "import pandas as pd\n",
    "from transformers import logging\n",
    "import sys\n",
    "\n",
    "if not sys.warnoptions:\n",
    "    import warnings\n",
    "    warnings.simplefilter(\"ignore\")\n",
    "\n",
    "iterations = 120\n",
    "\n",
    "results = []\n",
    "\n",
    "model_id = \"HuggingFaceH4/zephyr-7b-beta\"\n",
    "tokenizer = AutoTokenizer.from_pretrained(model_id)\n",
    "model = AutoModelForCausalLM.from_pretrained(model_id, device_map='auto') \n",
    "decoder = DecoderPipeline(model=model, tokenizer=tokenizer)#, device=device)\n",
    "\n",
    "with tqdm(total=iterations) as pbar:\n",
    "    for i in range(0, iterations):\n",
    "        # Data\n",
    "        question = val[i][\"question\"]\n",
    "        context = val[i][\"context\"]\n",
    "        answer_list = val[i][\"answers\"].get(\"text\")\n",
    "        answer = \"I don't know\"\n",
    "        is_possible = False\n",
    "        if len(answer_list) > 0:\n",
    "            is_possible = True\n",
    "            answer = answer_list[0]\n",
    "            \n",
    "        # Inference\n",
    "        prompt = get_prompt(question=question, context=context)\n",
    "        pred = decoder(prompt)\n",
    "    \n",
    "        # Evaluation\n",
    "        qa_score = evaluate_context_qa(\n",
    "            question=question,\n",
    "            prediction=pred,\n",
    "            context=context,\n",
    "            answer=answer\n",
    "        )\n",
    "        correctness_score, reasoning = evaluate_correctness(\n",
    "            prompt=prompt,\n",
    "            prediction=pred,\n",
    "            context=context\n",
    "        )\n",
    "    \n",
    "        results.append(\n",
    "            {\n",
    "                \"name\": model_id,\n",
    "                \"question\": question,\n",
    "                \"prediction\": pred,\n",
    "                \"is_possible\": is_possible,\n",
    "                \"context\": context,\n",
    "                \"qa_score\": qa_score,\n",
    "                \"correctness_score\": correctness_score,\n",
    "                \"reasoning\": reasoning,\n",
    "                \"prompt\": prompt\n",
    "            }\n",
    "        )\n",
    "        \n",
    "        torch.cuda.empty_cache()\n",
    "        pbar.update(1)"
   ]
  },
  {
   "cell_type": "code",
   "execution_count": 17,
   "id": "aa7ebc21-9d3c-4bb6-992e-e64640e3a1bd",
   "metadata": {},
   "outputs": [],
   "source": [
    "df = pd.DataFrame(results)\n",
    "df.to_pickle(model_id.replace(\"/\", \"-\") + \".pkl\")"
   ]
  },
  {
   "cell_type": "code",
   "execution_count": 18,
   "id": "5e2e9a90-94fa-4963-b621-3198bf5b5f85",
   "metadata": {},
   "outputs": [],
   "source": [
    "# clean up\n",
    "del model\n",
    "del tokenizer\n",
    "del decoder\n",
    "torch.cuda.empty_cache()"
   ]
  },
  {
   "cell_type": "markdown",
   "id": "674bbb0f-a24b-4408-8f0d-8f5517901f6a",
   "metadata": {},
   "source": [
    "# microsoft/Orca-2-13b"
   ]
  },
  {
   "cell_type": "code",
   "execution_count": 19,
   "id": "b15b4800-50bd-4be3-b004-2631c75c7a28",
   "metadata": {},
   "outputs": [
    {
     "data": {
      "application/vnd.jupyter.widget-view+json": {
       "model_id": "067dbb260a6d48b1a201147dc8d50e49",
       "version_major": 2,
       "version_minor": 0
      },
      "text/plain": [
       "Loading checkpoint shards:   0%|          | 0/6 [00:00<?, ?it/s]"
      ]
     },
     "metadata": {},
     "output_type": "display_data"
    },
    {
     "name": "stderr",
     "output_type": "stream",
     "text": [
      "WARNING:root:Some parameters are on the meta device device because they were offloaded to the cpu.\n",
      "100%|██████████| 120/120 [1:11:45<00:00, 35.88s/it]\n"
     ]
    }
   ],
   "source": [
    "iterations = 120\n",
    "\n",
    "results = []\n",
    "\n",
    "model_id = \"microsoft/Orca-2-13b\"\n",
    "tokenizer = AutoTokenizer.from_pretrained(model_id)\n",
    "model = AutoModelForCausalLM.from_pretrained(model_id, device_map='auto')  \n",
    "decoder = DecoderPipeline(model=model, tokenizer=tokenizer)#, device=device)\n",
    "\n",
    "with tqdm(total=iterations) as pbar:\n",
    "    for i in range(0, iterations):\n",
    "        # Data\n",
    "        question = val[i][\"question\"]\n",
    "        context = val[i][\"context\"]\n",
    "        answer_list = val[i][\"answers\"].get(\"text\")\n",
    "        answer = \"I don't know\"\n",
    "        is_possible = False\n",
    "        if len(answer_list) > 0:\n",
    "            is_possible = True\n",
    "            answer = answer_list[0]\n",
    "            \n",
    "        # Inference\n",
    "        prompt = get_prompt(question=question, context=context)\n",
    "        pred = decoder(prompt)\n",
    "    \n",
    "        # Evaluation\n",
    "        qa_score = evaluate_context_qa(\n",
    "            question=question,\n",
    "            prediction=pred,\n",
    "            context=context,\n",
    "            answer=answer\n",
    "        )\n",
    "        correctness_score, reasoning = evaluate_correctness(\n",
    "            prompt=prompt,\n",
    "            prediction=pred,\n",
    "            context=context\n",
    "        )\n",
    "    \n",
    "        results.append(\n",
    "            {\n",
    "                \"name\": model_id,\n",
    "                \"question\": question,\n",
    "                \"prediction\": pred,\n",
    "                \"is_possible\": is_possible,\n",
    "                \"context\": context,\n",
    "                \"qa_score\": qa_score,\n",
    "                \"correctness_score\": correctness_score,\n",
    "                \"reasoning\": reasoning,\n",
    "                \"prompt\": prompt\n",
    "            }\n",
    "        )\n",
    "            \n",
    "        torch.cuda.empty_cache()\n",
    "        pbar.update(1)"
   ]
  },
  {
   "cell_type": "code",
   "execution_count": 20,
   "id": "91ded003-d848-453e-a207-c89ec071c4ce",
   "metadata": {},
   "outputs": [],
   "source": [
    "df = pd.DataFrame(results)\n",
    "df.to_pickle(model_id.replace(\"/\", \"-\") + \".pkl\")"
   ]
  },
  {
   "cell_type": "code",
   "execution_count": 21,
   "id": "d932e2ed-2523-411d-a641-da266e505529",
   "metadata": {},
   "outputs": [],
   "source": [
    "# clean up\n",
    "del model\n",
    "del tokenizer\n",
    "del decoder\n",
    "torch.cuda.empty_cache()"
   ]
  },
  {
   "cell_type": "markdown",
   "id": "ffa13d74-a221-419f-97b5-4b7142792268",
   "metadata": {},
   "source": [
    "### mistralai/Mistral-7B-Instruct-v0.1"
   ]
  },
  {
   "cell_type": "code",
   "execution_count": null,
   "id": "4a286354-a965-43ff-83dc-bd1b1ecf392c",
   "metadata": {},
   "outputs": [],
   "source": [
    "iterations = 120\n",
    "pbar = tqdm(total=iterations)\n",
    "\n",
    "results = []\n",
    "\n",
    "model_id = \"mistralai/Mistral-7B-Instruct-v0.1\"\n",
    "tokenizer = AutoTokenizer.from_pretrained(model_id)\n",
    "model = AutoModelForCausalLM.from_pretrained(model_id, device_map='auto')  \n",
    "decoder = DecoderPipeline(model=model, tokenizer=tokenizer)\n",
    "\n",
    "with tqdm(total=iterations) as pbar:\n",
    "    for i in range(0, iterations):\n",
    "        # Data\n",
    "        question = val[i][\"question\"]\n",
    "        context = val[i][\"context\"]\n",
    "        answer_list = val[i][\"answers\"].get(\"text\")\n",
    "        answer = \"I don't know\"\n",
    "        is_possible = False\n",
    "        if len(answer_list) > 0:\n",
    "            is_possible = True\n",
    "            answer = answer_list[0]\n",
    "            \n",
    "        # Inference\n",
    "        prompt = get_prompt(question=question, context=context)\n",
    "        pred = decoder(prompt)\n",
    "    \n",
    "        # Evaluation\n",
    "        qa_score = evaluate_context_qa(\n",
    "            question=question,\n",
    "            prediction=pred,\n",
    "            context=context,\n",
    "            answer=answer\n",
    "        )\n",
    "        correctness_score, reasoning = evaluate_correctness(\n",
    "            prompt=prompt,\n",
    "            prediction=pred,\n",
    "            context=context\n",
    "        )\n",
    "    \n",
    "        results.append(\n",
    "            {\n",
    "                \"name\": model_id,\n",
    "                \"question\": question,\n",
    "                \"prediction\": pred,\n",
    "                \"is_possible\": is_possible,\n",
    "                \"context\": context,\n",
    "                \"qa_score\": qa_score,\n",
    "                \"correctness_score\": correctness_score,\n",
    "                \"reasoning\": reasoning,\n",
    "                \"prompt\": prompt\n",
    "            }\n",
    "        )\n",
    "            \n",
    "        torch.cuda.empty_cache()\n",
    "        pbar.update(1)"
   ]
  },
  {
   "cell_type": "code",
   "execution_count": null,
   "id": "00a4e41f-1e02-4082-9818-75d15f6d6b11",
   "metadata": {},
   "outputs": [],
   "source": [
    "df = pd.DataFrame(results)\n",
    "df.to_pickle(model_id.replace(\"/\", \"-\") + \".pkl\")"
   ]
  },
  {
   "cell_type": "code",
   "execution_count": null,
   "id": "120e3ffe-b36b-452d-9083-6422c415d92d",
   "metadata": {},
   "outputs": [],
   "source": [
    "# clean up\n",
    "del model\n",
    "del tokenizer\n",
    "del decoder\n",
    "torch.cuda.empty_cache()"
   ]
  },
  {
   "cell_type": "markdown",
   "id": "b2177ff9-a3f4-4aac-a2ef-4ab6153c23c0",
   "metadata": {},
   "source": [
    "### Intel/neural-chat-7b-v3-1"
   ]
  },
  {
   "cell_type": "code",
   "execution_count": null,
   "id": "177a2c92-5115-4e89-bbe0-9be4b8ee7135",
   "metadata": {},
   "outputs": [],
   "source": [
    "iterations = 120\n",
    "pbar = tqdm(total=iterations)\n",
    "\n",
    "results = []\n",
    "\n",
    "model_id = \"Intel/neural-chat-7b-v3-1\"\n",
    "tokenizer = AutoTokenizer.from_pretrained(model_id)\n",
    "model = AutoModelForCausalLM.from_pretrained(model_id, device_map='auto')  \n",
    "decoder = DecoderPipeline(model=model, tokenizer=tokenizer)\n",
    "\n",
    "with tqdm(total=iterations) as pbar:\n",
    "    for i in range(0, iterations):\n",
    "        # Data\n",
    "        question = val[i][\"question\"]\n",
    "        context = val[i][\"context\"]\n",
    "        answer_list = val[i][\"answers\"].get(\"text\")\n",
    "        answer = \"I don't know\"\n",
    "        is_possible = False\n",
    "        if len(answer_list) > 0:\n",
    "            is_possible = True\n",
    "            answer = answer_list[0]\n",
    "            \n",
    "        # Inference\n",
    "        prompt = get_prompt(question=question, context=context)\n",
    "        pred = decoder(prompt)\n",
    "    \n",
    "        # Evaluation\n",
    "        qa_score = evaluate_context_qa(\n",
    "            question=question,\n",
    "            prediction=pred,\n",
    "            context=context,\n",
    "            answer=answer\n",
    "        )\n",
    "        correctness_score, reasoning = evaluate_correctness(\n",
    "            prompt=prompt,\n",
    "            prediction=pred,\n",
    "            context=context\n",
    "        )\n",
    "    \n",
    "        results.append(\n",
    "            {\n",
    "                \"name\": model_id,\n",
    "                \"question\": question,\n",
    "                \"prediction\": pred,\n",
    "                \"is_possible\": is_possible,\n",
    "                \"context\": context,\n",
    "                \"qa_score\": qa_score,\n",
    "                \"correctness_score\": correctness_score,\n",
    "                \"reasoning\": reasoning,\n",
    "                \"prompt\": prompt\n",
    "            }\n",
    "        )\n",
    "            \n",
    "        torch.cuda.empty_cache()\n",
    "        pbar.update(1)"
   ]
  },
  {
   "cell_type": "code",
   "execution_count": null,
   "id": "ec91c5da-3abe-4c2c-850d-4e27498ef125",
   "metadata": {},
   "outputs": [],
   "source": [
    "df = pd.DataFrame(results)\n",
    "df.to_pickle(model_id.replace(\"/\", \"-\") + \".pkl\")"
   ]
  },
  {
   "cell_type": "code",
   "execution_count": null,
   "id": "c22799f1-b996-4d54-9cad-4217e4d8684d",
   "metadata": {},
   "outputs": [],
   "source": [
    "# clean up\n",
    "del model\n",
    "del tokenizer\n",
    "del decoder\n",
    "torch.cuda.empty_cache()"
   ]
  },
  {
   "cell_type": "markdown",
   "id": "8d8d74d7-b5c1-478f-ad00-a5ee0fbf8ca2",
   "metadata": {},
   "source": [
    "### tiiuae/falcon-7b-instruct"
   ]
  },
  {
   "cell_type": "code",
   "execution_count": null,
   "id": "5b37e371-ff66-405d-bdca-9e3f5fb2d314",
   "metadata": {},
   "outputs": [],
   "source": [
    "iterations = 120\n",
    "pbar = tqdm(total=iterations)\n",
    "\n",
    "results = []\n",
    "\n",
    "model_id = \"tiiuae/falcon-7b-instruct\"\n",
    "tokenizer = AutoTokenizer.from_pretrained(model_id)\n",
    "model = AutoModelForCausalLM.from_pretrained(model_id, device_map='auto')  \n",
    "decoder = DecoderPipeline(model=model, tokenizer=tokenizer)\n",
    "\n",
    "with tqdm(total=iterations) as pbar:\n",
    "    for i in range(0, iterations):\n",
    "        # Data\n",
    "        question = val[i][\"question\"]\n",
    "        context = val[i][\"context\"]\n",
    "        answer_list = val[i][\"answers\"].get(\"text\")\n",
    "        answer = \"I don't know\"\n",
    "        is_possible = False\n",
    "        if len(answer_list) > 0:\n",
    "            is_possible = True\n",
    "            answer = answer_list[0]\n",
    "            \n",
    "        # Inference\n",
    "        prompt = get_prompt(question=question, context=context)\n",
    "        pred = decoder(prompt)\n",
    "    \n",
    "        # Evaluation\n",
    "        qa_score = evaluate_context_qa(\n",
    "            question=question,\n",
    "            prediction=pred,\n",
    "            context=context,\n",
    "            answer=answer\n",
    "        )\n",
    "        correctness_score, reasoning = evaluate_correctness(\n",
    "            prompt=prompt,\n",
    "            prediction=pred,\n",
    "            context=context\n",
    "        )\n",
    "    \n",
    "        results.append(\n",
    "            {\n",
    "                \"name\": model_id,\n",
    "                \"question\": question,\n",
    "                \"prediction\": pred,\n",
    "                \"is_possible\": is_possible,\n",
    "                \"context\": context,\n",
    "                \"qa_score\": qa_score,\n",
    "                \"correctness_score\": correctness_score,\n",
    "                \"reasoning\": reasoning,\n",
    "                \"prompt\": prompt\n",
    "            }\n",
    "        )\n",
    "            \n",
    "        torch.cuda.empty_cache()\n",
    "        pbar.update(1)"
   ]
  },
  {
   "cell_type": "code",
   "execution_count": null,
   "id": "6053aa31-49c4-4813-959d-b118c0bdce9c",
   "metadata": {},
   "outputs": [],
   "source": [
    "df = pd.DataFrame(results)\n",
    "df.to_pickle(model_id.replace(\"/\", \"-\") + \".pkl\")"
   ]
  },
  {
   "cell_type": "code",
   "execution_count": null,
   "id": "23ab5fe6-5b01-425a-a14c-2b691288b6e2",
   "metadata": {},
   "outputs": [],
   "source": [
    "# clean up\n",
    "del model\n",
    "del tokenizer\n",
    "del decoder\n",
    "torch.cuda.empty_cache()"
   ]
  },
  {
   "cell_type": "markdown",
   "id": "8bd05668-d2b8-450e-88fc-e7b2916986a1",
   "metadata": {},
   "source": [
    "### meta-llama/Llama-2-7b-chat-hf"
   ]
  },
  {
   "cell_type": "code",
   "execution_count": null,
   "id": "fd203363-866a-4ba4-b4ea-ce2275426093",
   "metadata": {},
   "outputs": [],
   "source": [
    "iterations = 120\n",
    "pbar = tqdm(total=iterations)\n",
    "\n",
    "results = []\n",
    "\n",
    "model_id = \"meta-llama/Llama-2-7b-chat-hf\"\n",
    "\n",
    "model_config = AutoConfig.from_pretrained(\n",
    "            pretrained_model_name_or_path=model_id,\n",
    "            token=True\n",
    "        )\n",
    "tokenizer = AutoTokenizer.from_pretrained(model_id)\n",
    "model = AutoModelForCausalLM.from_pretrained(model_id, device_map='auto', config=model_config)   \n",
    "decoder = DecoderPipeline(model=model, tokenizer=tokenizer)\n",
    "\n",
    "with tqdm(total=iterations) as pbar:\n",
    "    for i in range(0, iterations):\n",
    "        # Data\n",
    "        question = val[i][\"question\"]\n",
    "        context = val[i][\"context\"]\n",
    "        answer_list = val[i][\"answers\"].get(\"text\")\n",
    "        answer = \"I don't know\"\n",
    "        is_possible = False\n",
    "        if len(answer_list) > 0:\n",
    "            is_possible = True\n",
    "            answer = answer_list[0]\n",
    "            \n",
    "        # Inference\n",
    "        prompt = get_prompt(question=question, context=context)\n",
    "        pred = decoder(prompt)\n",
    "    \n",
    "        # Evaluation\n",
    "        qa_score = evaluate_context_qa(\n",
    "            question=question,\n",
    "            prediction=pred,\n",
    "            context=context,\n",
    "            answer=answer\n",
    "        )\n",
    "        correctness_score, reasoning = evaluate_correctness(\n",
    "            prompt=prompt,\n",
    "            prediction=pred,\n",
    "            context=context\n",
    "        )\n",
    "    \n",
    "        results.append(\n",
    "            {\n",
    "                \"name\": model_id,\n",
    "                \"question\": question,\n",
    "                \"prediction\": pred,\n",
    "                \"is_possible\": is_possible,\n",
    "                \"context\": context,\n",
    "                \"qa_score\": qa_score,\n",
    "                \"correctness_score\": correctness_score,\n",
    "                \"reasoning\": reasoning,\n",
    "                \"prompt\": prompt\n",
    "            }\n",
    "        )\n",
    "            \n",
    "        torch.cuda.empty_cache()\n",
    "        pbar.update(1)"
   ]
  },
  {
   "cell_type": "code",
   "execution_count": null,
   "id": "bbdf805b-c50a-40be-8bf4-61e621545a57",
   "metadata": {},
   "outputs": [],
   "source": [
    "df = pd.DataFrame(results)\n",
    "df.to_pickle(model_id.replace(\"/\", \"-\") + \".pkl\")"
   ]
  },
  {
   "cell_type": "code",
   "execution_count": null,
   "id": "33b97a7a-4e5e-464e-a047-6a58e9651e6e",
   "metadata": {},
   "outputs": [],
   "source": [
    "# clean up\n",
    "del model\n",
    "del tokenizer\n",
    "del decoder\n",
    "torch.cuda.empty_cache()"
   ]
  },
  {
   "cell_type": "code",
   "execution_count": null,
   "id": "363c53fa-7730-4f2a-ae75-6c2ba052d044",
   "metadata": {},
   "outputs": [],
   "source": [
    "del llama"
   ]
  },
  {
   "cell_type": "code",
   "execution_count": null,
   "id": "d2e1082e-2813-4409-aaf1-5506d41f8ffc",
   "metadata": {},
   "outputs": [],
   "source": [
    "torch.cuda.empty_cache()"
   ]
  },
  {
   "cell_type": "code",
   "execution_count": null,
   "id": "b8bda200-3d37-4540-b42f-4dd52f7bd4eb",
   "metadata": {},
   "outputs": [],
   "source": [
    "    #\"meta-llama/Llama-2-7b-chat-hf\",\n",
    "    #\"meta-llama/Llama-2-70b-chat-hf\", -> Config"
   ]
  },
  {
   "cell_type": "code",
   "execution_count": null,
   "id": "3ec480c5-6955-4b82-9182-e5501e11d692",
   "metadata": {},
   "outputs": [],
   "source": [
    "evaluator"
   ]
  }
 ],
 "metadata": {
  "kernelspec": {
   "display_name": "Python 3 (ipykernel)",
   "language": "python",
   "name": "python3"
  },
  "language_info": {
   "codemirror_mode": {
    "name": "ipython",
    "version": 3
   },
   "file_extension": ".py",
   "mimetype": "text/x-python",
   "name": "python",
   "nbconvert_exporter": "python",
   "pygments_lexer": "ipython3",
   "version": "3.10.11"
  }
 },
 "nbformat": 4,
 "nbformat_minor": 5
}
