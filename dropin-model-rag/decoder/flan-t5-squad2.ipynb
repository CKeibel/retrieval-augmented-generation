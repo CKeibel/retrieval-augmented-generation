{
 "cells": [
  {
   "cell_type": "markdown",
   "id": "2aef7120-39a9-4e86-99a8-55b661cea3b6",
   "metadata": {},
   "source": [
    "# Flan-T5 (base) Squadv2"
   ]
  },
  {
   "cell_type": "markdown",
   "id": "77cd42d6-1185-4a4d-9284-6885b931083d",
   "metadata": {},
   "source": [
    "## Dataset"
   ]
  },
  {
   "cell_type": "code",
   "execution_count": 1,
   "id": "76892f17-86ac-424b-be1f-71bcebf67101",
   "metadata": {},
   "outputs": [
    {
     "data": {
      "text/plain": [
       "DatasetDict({\n",
       "    train: Dataset({\n",
       "        features: ['id', 'title', 'context', 'question', 'answers'],\n",
       "        num_rows: 130319\n",
       "    })\n",
       "    validation: Dataset({\n",
       "        features: ['id', 'title', 'context', 'question', 'answers'],\n",
       "        num_rows: 11873\n",
       "    })\n",
       "})"
      ]
     },
     "execution_count": 1,
     "metadata": {},
     "output_type": "execute_result"
    }
   ],
   "source": [
    "from datasets import load_dataset\n",
    "\n",
    "ds = load_dataset(\"squad_v2\")\n",
    "ds"
   ]
  },
  {
   "cell_type": "code",
   "execution_count": 2,
   "id": "f0fb36d3-4771-40d9-9177-5bae6f73edba",
   "metadata": {},
   "outputs": [],
   "source": [
    "trn = ds[\"train\"]\n",
    "val = ds[\"validation\"]"
   ]
  },
  {
   "cell_type": "markdown",
   "id": "d3dbcac2-7ff3-4e36-b1c6-c26b59c4cfa7",
   "metadata": {},
   "source": [
    "## Model"
   ]
  },
  {
   "cell_type": "code",
   "execution_count": 3,
   "id": "6dda14a9-ab4f-47ed-8cbd-244abda7ef07",
   "metadata": {},
   "outputs": [
    {
     "data": {
      "text/plain": [
       "'cuda:0'"
      ]
     },
     "execution_count": 3,
     "metadata": {},
     "output_type": "execute_result"
    }
   ],
   "source": [
    "import torch\n",
    "\n",
    "device = \"cuda:0\" if torch.cuda.is_available() else \"cpu\"\n",
    "device"
   ]
  },
  {
   "cell_type": "code",
   "execution_count": 6,
   "id": "a54ce1c3-2a17-4e1f-9969-1196b39580ca",
   "metadata": {},
   "outputs": [],
   "source": [
    "from transformers import AutoTokenizer, AutoModelForSeq2SeqLM\n",
    "\n",
    "model_id = \"google/flan-t5-base\"\n",
    "\n",
    "tokenizer = AutoTokenizer.from_pretrained(model_id)\n",
    "model = AutoModelForSeq2SeqLM.from_pretrained(model_id).to(device)"
   ]
  },
  {
   "cell_type": "code",
   "execution_count": 7,
   "id": "fa34fa16-2e4d-4af8-9109-20db3c6103c6",
   "metadata": {},
   "outputs": [],
   "source": [
    "def prompt(context: str, question: str) -> str:\n",
    "    return f\"\"\"Answer the following Question based on the Context only. \n",
    "            Only answer from the Context. If you don't know the answer, say 'I don't know'.\n",
    "            Question: {question}\\n\\n\n",
    "            Context: {context}\\n\\n\n",
    "            Answer:\"\"\""
   ]
  },
  {
   "cell_type": "code",
   "execution_count": 8,
   "id": "a1409350-f70a-4c23-8160-34ba516906ed",
   "metadata": {},
   "outputs": [
    {
     "name": "stderr",
     "output_type": "stream",
     "text": [
      "2023-11-25 13:51:26.542195: I tensorflow/core/platform/cpu_feature_guard.cc:193] This TensorFlow binary is optimized with oneAPI Deep Neural Network Library (oneDNN) to use the following CPU instructions in performance-critical operations:  AVX2 FMA\n",
      "To enable them in other operations, rebuild TensorFlow with the appropriate compiler flags.\n",
      "2023-11-25 13:51:27.304791: W tensorflow/compiler/xla/stream_executor/platform/default/dso_loader.cc:64] Could not load dynamic library 'libnvinfer.so.7'; dlerror: libnvinfer.so.7: cannot open shared object file: No such file or directory; LD_LIBRARY_PATH: /usr/local/nvidia/lib:/usr/local/nvidia/lib64\n",
      "2023-11-25 13:51:27.304885: W tensorflow/compiler/xla/stream_executor/platform/default/dso_loader.cc:64] Could not load dynamic library 'libnvinfer_plugin.so.7'; dlerror: libnvinfer_plugin.so.7: cannot open shared object file: No such file or directory; LD_LIBRARY_PATH: /usr/local/nvidia/lib:/usr/local/nvidia/lib64\n",
      "2023-11-25 13:51:27.304893: W tensorflow/compiler/tf2tensorrt/utils/py_utils.cc:38] TF-TRT Warning: Cannot dlopen some TensorRT libraries. If you would like to use Nvidia GPU with TensorRT, please make sure the missing libraries mentioned above are installed properly.\n"
     ]
    }
   ],
   "source": [
    "inputs = tokenizer(prompt(val[0][\"context\"], val[0][\"question\"]), return_tensors='pt').to(device)\n",
    "output = tokenizer.decode(\n",
    "    model.generate(\n",
    "        inputs[\"input_ids\"], \n",
    "        max_new_tokens=200,\n",
    "    )[0], \n",
    "    skip_special_tokens=True\n",
    ")"
   ]
  },
  {
   "cell_type": "code",
   "execution_count": 13,
   "id": "30772235-a372-4306-ae75-e17027e34922",
   "metadata": {},
   "outputs": [],
   "source": [
    "def generate(prompt: str) -> str:\n",
    "    inputs = tokenizer(prompt, return_tensors='pt').to(device)\n",
    "    return tokenizer.decode(\n",
    "        model.generate(\n",
    "            inputs[\"input_ids\"], \n",
    "            max_new_tokens=200,\n",
    "        )[0], \n",
    "        skip_special_tokens=True\n",
    "    )"
   ]
  },
  {
   "cell_type": "code",
   "execution_count": 25,
   "id": "d06b66fc-99cc-4477-b62d-5e11d01584ad",
   "metadata": {},
   "outputs": [
    {
     "name": "stdout",
     "output_type": "stream",
     "text": [
      "\n",
      "# Context:\n",
      "The Normans (Norman: Nourmands; French: Normands; Latin: Normanni) were the people who in the 10th and 11th centuries gave their name to Normandy, a region in France. They were descended from Norse (\"Norman\" comes from \"Norseman\") raiders and pirates from Denmark, Iceland and Norway who, under their leader Rollo, agreed to swear fealty to King Charles III of West Francia. Through generations of assimilation and mixing with the native Frankish and Roman-Gaulish populations, their descendants would gradually merge with the Carolingian-based cultures of West Francia. The distinct cultural and ethnic identity of the Normans emerged initially in the first half of the 10th century, and it continued to evolve over the succeeding centuries.\n",
      "\n",
      "\n",
      "# Question:\n",
      "In what country is Normandy located?\n",
      "\n",
      "\n",
      "# Model:\n",
      "France\n",
      "\n",
      "\n",
      "# Answers:\n",
      "\n",
      "['France', 'France', 'France', 'France']\n",
      "\n"
     ]
    }
   ],
   "source": [
    "# Test answer\n",
    "pred = generate(prompt(context=val[0][\"context\"], question=val[0][\"question\"]))\n",
    "print(f\"\"\"\n",
    "# Context:\n",
    "{val[0]['context']}\\n\\n\n",
    "# Question:\n",
    "{val[0]['question']}\\n\\n\n",
    "# Model:\n",
    "{pred}\\n\\n\n",
    "# Answers:\\n\n",
    "{val[0]['answers'].get(\"text\")}\n",
    "\"\"\"\n",
    ")"
   ]
  },
  {
   "cell_type": "code",
   "execution_count": 29,
   "id": "7e378ae5-586e-4c7d-b250-30be133ecc21",
   "metadata": {},
   "outputs": [
    {
     "name": "stdout",
     "output_type": "stream",
     "text": [
      "\n",
      "# Context:\n",
      "The pound-force has a metric counterpart, less commonly used than the newton: the kilogram-force (kgf) (sometimes kilopond), is the force exerted by standard gravity on one kilogram of mass. The kilogram-force leads to an alternate, but rarely used unit of mass: the metric slug (sometimes mug or hyl) is that mass that accelerates at 1 m·s−2 when subjected to a force of 1 kgf. The kilogram-force is not a part of the modern SI system, and is generally deprecated; however it still sees use for some purposes as expressing aircraft weight, jet thrust, bicycle spoke tension, torque wrench settings and engine output torque. Other arcane units of force include the sthène, which is equivalent to 1000 N, and the kip, which is equivalent to 1000 lbf.\n",
      "\n",
      "\n",
      "# Question:\n",
      "Who gave their name to Normandy in the 1000's and 1100's\n",
      "\n",
      "\n",
      "# Model:\n",
      "I don't know\n",
      "\n",
      "\n",
      "# Answers:\n",
      "\n",
      "I don't know\n",
      "\n"
     ]
    }
   ],
   "source": [
    "# Test wrong context question pair\n",
    "pred = generate(prompt(context=val[-1][\"context\"], question=val[5][\"question\"]))\n",
    "print(f\"\"\"\n",
    "# Context:\n",
    "{val[-1]['context']}\\n\\n\n",
    "# Question:\n",
    "{val[5]['question']}\\n\\n\n",
    "# Model:\n",
    "{pred}\\n\\n\n",
    "# Answers:\\n\n",
    "I don't know\n",
    "\"\"\"\n",
    ")"
   ]
  },
  {
   "cell_type": "code",
   "execution_count": 31,
   "id": "f70d799c-26bb-4c55-9e42-97b9b434e80b",
   "metadata": {},
   "outputs": [],
   "source": [
    "def evaluate_answer(is_possible: bool, pred: str, answer: str) -> bool:\n",
    "    if is_possible:\n",
    "        return answer in pred\n",
    "\n",
    "    return \"don't know\" in pred"
   ]
  },
  {
   "cell_type": "code",
   "execution_count": 32,
   "id": "b9664c37-f9e1-4888-86d9-4fbff42c2928",
   "metadata": {},
   "outputs": [
    {
     "name": "stderr",
     "output_type": "stream",
     "text": [
      "100%|██████████| 30/30 [00:02<00:00, 13.42it/s]\n"
     ]
    }
   ],
   "source": [
    "from tqdm import tqdm\n",
    "\n",
    "result = []\n",
    "iterrations = 30\n",
    "\n",
    "with tqdm(total=iterrations) as pbar:\n",
    "    for i, _ in enumerate(val):\n",
    "        if i == iterrations:\n",
    "            break\n",
    "            \n",
    "        # dataset\n",
    "        question = val[i][\"question\"]\n",
    "        context = val[i][\"context\"]\n",
    "        answer_list = val[i][\"answers\"].get(\"text\")\n",
    "        answer = \"\"\n",
    "        is_possible = False\n",
    "        if len(answer_list) > 0:\n",
    "            answer = answer_list[0]\n",
    "            is_possible = True\n",
    "        \n",
    "        # call model and extract answer\n",
    "        p = prompt(context=context, question=question)\n",
    "        pred = generate(p)\n",
    "        \n",
    "        # evaluate answer\n",
    "        eval = evaluate_answer(is_possible, pred, answer)\n",
    "            \n",
    "        result.append(\n",
    "            {\n",
    "                \"question\": question,\n",
    "                \"pred\": pred,\n",
    "                \"eval\": eval,\n",
    "                \"answer\": answer,\n",
    "                \"is_possible\": is_possible\n",
    "            }\n",
    "        )\n",
    "        pbar.update(1)"
   ]
  },
  {
   "cell_type": "code",
   "execution_count": 33,
   "id": "3f8634b0-5608-435c-adf1-31bc61927526",
   "metadata": {},
   "outputs": [
    {
     "data": {
      "text/plain": [
       "[{'question': 'In what country is Normandy located?',\n",
       "  'pred': 'France',\n",
       "  'eval': True,\n",
       "  'answer': 'France',\n",
       "  'is_possible': True},\n",
       " {'question': 'When were the Normans in Normandy?',\n",
       "  'pred': '10th and 11th centuries',\n",
       "  'eval': True,\n",
       "  'answer': '10th and 11th centuries',\n",
       "  'is_possible': True},\n",
       " {'question': 'From which countries did the Norse originate?',\n",
       "  'pred': 'Denmark, Iceland and Norway',\n",
       "  'eval': True,\n",
       "  'answer': 'Denmark, Iceland and Norway',\n",
       "  'is_possible': True},\n",
       " {'question': 'Who was the Norse leader?',\n",
       "  'pred': 'Rollo',\n",
       "  'eval': True,\n",
       "  'answer': 'Rollo',\n",
       "  'is_possible': True},\n",
       " {'question': 'What century did the Normans first gain their separate identity?',\n",
       "  'pred': '10th',\n",
       "  'eval': False,\n",
       "  'answer': '10th century',\n",
       "  'is_possible': True},\n",
       " {'question': \"Who gave their name to Normandy in the 1000's and 1100's\",\n",
       "  'pred': 'The Normans',\n",
       "  'eval': False,\n",
       "  'answer': '',\n",
       "  'is_possible': False},\n",
       " {'question': 'What is France a region of?',\n",
       "  'pred': 'France',\n",
       "  'eval': False,\n",
       "  'answer': '',\n",
       "  'is_possible': False},\n",
       " {'question': 'Who did King Charles III swear fealty to?',\n",
       "  'pred': 'The Normans',\n",
       "  'eval': False,\n",
       "  'answer': '',\n",
       "  'is_possible': False},\n",
       " {'question': 'When did the Frankish identity emerge?',\n",
       "  'pred': 'first half of the 10th century',\n",
       "  'eval': False,\n",
       "  'answer': '',\n",
       "  'is_possible': False},\n",
       " {'question': 'Who was the duke in the battle of Hastings?',\n",
       "  'pred': 'William the Conqueror',\n",
       "  'eval': True,\n",
       "  'answer': 'William the Conqueror',\n",
       "  'is_possible': True},\n",
       " {'question': 'Who ruled the duchy of Normandy',\n",
       "  'pred': 'Richard I',\n",
       "  'eval': True,\n",
       "  'answer': 'Richard I',\n",
       "  'is_possible': True},\n",
       " {'question': 'What religion were the Normans',\n",
       "  'pred': 'Catholic',\n",
       "  'eval': True,\n",
       "  'answer': 'Catholic',\n",
       "  'is_possible': True},\n",
       " {'question': 'What type of major impact did the Norman dynasty have on modern Europe?',\n",
       "  'pred': 'political, cultural and military',\n",
       "  'eval': False,\n",
       "  'answer': '',\n",
       "  'is_possible': False},\n",
       " {'question': 'Who was famed for their Christian spirit?',\n",
       "  'pred': 'The Normans',\n",
       "  'eval': False,\n",
       "  'answer': '',\n",
       "  'is_possible': False},\n",
       " {'question': 'Who assimilted the Roman language?',\n",
       "  'pred': 'The Normans',\n",
       "  'eval': False,\n",
       "  'answer': '',\n",
       "  'is_possible': False},\n",
       " {'question': 'Who ruled the country of Normandy?',\n",
       "  'pred': 'Richard I',\n",
       "  'eval': False,\n",
       "  'answer': '',\n",
       "  'is_possible': False},\n",
       " {'question': 'What principality did William the conquerer found?',\n",
       "  'pred': 'Principality of Antioch',\n",
       "  'eval': False,\n",
       "  'answer': '',\n",
       "  'is_possible': False},\n",
       " {'question': 'What is the original meaning of the word Norman?',\n",
       "  'pred': 'Normant',\n",
       "  'eval': False,\n",
       "  'answer': 'Viking',\n",
       "  'is_possible': True},\n",
       " {'question': 'When was the Latin version of the word Norman first recorded?',\n",
       "  'pred': '9th century',\n",
       "  'eval': True,\n",
       "  'answer': '9th century',\n",
       "  'is_possible': True},\n",
       " {'question': 'What name comes from the English words Normans/Normanz?',\n",
       "  'pred': 'Normant',\n",
       "  'eval': False,\n",
       "  'answer': '',\n",
       "  'is_possible': False},\n",
       " {'question': 'When was the French version of the word Norman first recorded?',\n",
       "  'pred': '9th century',\n",
       "  'eval': False,\n",
       "  'answer': '',\n",
       "  'is_possible': False},\n",
       " {'question': 'When was the Duchy of Normandy founded?',\n",
       "  'pred': '911',\n",
       "  'eval': True,\n",
       "  'answer': '911',\n",
       "  'is_possible': True},\n",
       " {'question': 'Who did Rollo sign the treaty of Saint-Clair-sur-Epte with?',\n",
       "  'pred': 'King Charles III of West Francia',\n",
       "  'eval': True,\n",
       "  'answer': 'King Charles III',\n",
       "  'is_possible': True},\n",
       " {'question': 'What river originally bounded the Duchy',\n",
       "  'pred': 'Epte',\n",
       "  'eval': False,\n",
       "  'answer': 'Seine',\n",
       "  'is_possible': True},\n",
       " {'question': 'when did Nors encampments ivolve into destructive incursions?',\n",
       "  'pred': 'In the course of the 10th century',\n",
       "  'eval': False,\n",
       "  'answer': '',\n",
       "  'is_possible': False},\n",
       " {'question': 'What treaty was established in the 9th century?',\n",
       "  'pred': 'treaty of Saint-Clair-sur-Epte',\n",
       "  'eval': False,\n",
       "  'answer': '',\n",
       "  'is_possible': False},\n",
       " {'question': 'Who established a treaty with King Charles the third of France?',\n",
       "  'pred': 'Rollo',\n",
       "  'eval': False,\n",
       "  'answer': '',\n",
       "  'is_possible': False},\n",
       " {'question': 'What did the French promises to protect Rollo and his men from?',\n",
       "  'pred': 'Viking incursions',\n",
       "  'eval': False,\n",
       "  'answer': '',\n",
       "  'is_possible': False},\n",
       " {'question': 'Who upon arriving gave the original viking settlers a common identity?',\n",
       "  'pred': 'Rollo',\n",
       "  'eval': True,\n",
       "  'answer': 'Rollo',\n",
       "  'is_possible': True},\n",
       " {'question': 'When did Rollo begin to arrive in Normandy?',\n",
       "  'pred': '880s',\n",
       "  'eval': False,\n",
       "  'answer': '',\n",
       "  'is_possible': False}]"
      ]
     },
     "execution_count": 33,
     "metadata": {},
     "output_type": "execute_result"
    }
   ],
   "source": [
    "result"
   ]
  }
 ],
 "metadata": {
  "kernelspec": {
   "display_name": "Python 3 (ipykernel)",
   "language": "python",
   "name": "python3"
  },
  "language_info": {
   "codemirror_mode": {
    "name": "ipython",
    "version": 3
   },
   "file_extension": ".py",
   "mimetype": "text/x-python",
   "name": "python",
   "nbconvert_exporter": "python",
   "pygments_lexer": "ipython3",
   "version": "3.10.11"
  }
 },
 "nbformat": 4,
 "nbformat_minor": 5
}
