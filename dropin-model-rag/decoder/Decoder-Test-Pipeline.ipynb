{
 "cells": [
  {
   "cell_type": "markdown",
   "id": "e727b062-4d23-4322-aabc-5b32a8ab6f9b",
   "metadata": {},
   "source": [
    "# Decoder evaluation"
   ]
  },
  {
   "cell_type": "code",
   "execution_count": 1,
   "id": "9b9b3d18-4a75-4da1-8c2e-76cff1b76459",
   "metadata": {},
   "outputs": [],
   "source": [
    "!pip install -U transformers sentencepiece bitsandbytes accelerate rouge_score langchain install -U \"ray\" --quiet"
   ]
  },
  {
   "cell_type": "code",
   "execution_count": 2,
   "id": "44ae6750-c036-4d6c-abda-3db1e7bd2f6b",
   "metadata": {},
   "outputs": [
    {
     "data": {
      "application/vnd.jupyter.widget-view+json": {
       "model_id": "e8890b020357436384ee5d2049a69e04",
       "version_major": 2,
       "version_minor": 0
      },
      "text/plain": [
       "VBox(children=(HTML(value='<center> <img\\nsrc=https://huggingface.co/front/assets/huggingface_logo-noborder.sv…"
      ]
     },
     "metadata": {},
     "output_type": "display_data"
    }
   ],
   "source": [
    "from huggingface_hub import login\n",
    "login()"
   ]
  },
  {
   "cell_type": "code",
   "execution_count": 3,
   "id": "f5b47f83-9ce6-4f1b-b21d-6af89d1a9734",
   "metadata": {},
   "outputs": [
    {
     "data": {
      "text/plain": [
       "'cuda:0'"
      ]
     },
     "execution_count": 3,
     "metadata": {},
     "output_type": "execute_result"
    }
   ],
   "source": [
    "import torch\n",
    "\n",
    "device = \"cuda:0\" if torch.cuda.is_available() else \"cpu\"\n",
    "device"
   ]
  },
  {
   "cell_type": "markdown",
   "id": "6f278846-eab0-4a3b-ad32-2b9bdad37821",
   "metadata": {},
   "source": [
    "## Evaluator LLM (Llama 2 70b)"
   ]
  },
  {
   "cell_type": "code",
   "execution_count": 4,
   "id": "35986c24-d164-4df1-a929-eb1f00de32c2",
   "metadata": {},
   "outputs": [],
   "source": [
    "from torch import bfloat16\n",
    "from transformers import BitsAndBytesConfig\n",
    "\n",
    "bnb_config = BitsAndBytesConfig(\n",
    "    load_in_4bit=True,\n",
    "    bnb_4bit_quant_type='nf4',\n",
    "    bnb_4bit_use_double_quant=True,\n",
    "    bnb_4bit_compute_dtype=bfloat16\n",
    ")"
   ]
  },
  {
   "cell_type": "code",
   "execution_count": 5,
   "id": "25e24aee-9e41-4a32-b564-7b04758aac23",
   "metadata": {},
   "outputs": [],
   "source": [
    "from transformers import AutoConfig\n",
    "\n",
    "model_id = \"meta-llama/Llama-2-70b-chat-hf\"\n",
    "\n",
    "model_config = AutoConfig.from_pretrained(\n",
    "    model_id,\n",
    "    token=True\n",
    ")"
   ]
  },
  {
   "cell_type": "code",
   "execution_count": 6,
   "id": "4d28b256-3e9f-4257-abdd-a9e26893c91c",
   "metadata": {},
   "outputs": [
    {
     "data": {
      "application/vnd.jupyter.widget-view+json": {
       "model_id": "1fa87be8dcf24afbb501bd7083be603b",
       "version_major": 2,
       "version_minor": 0
      },
      "text/plain": [
       "Loading checkpoint shards:   0%|          | 0/15 [00:00<?, ?it/s]"
      ]
     },
     "metadata": {},
     "output_type": "display_data"
    },
    {
     "name": "stderr",
     "output_type": "stream",
     "text": [
      "/opt/conda/lib/python3.10/site-packages/transformers/utils/hub.py:374: FutureWarning: The `use_auth_token` argument is deprecated and will be removed in v5 of Transformers. Please use `token` instead.\n",
      "  warnings.warn(\n"
     ]
    }
   ],
   "source": [
    "from transformers import AutoModelForCausalLM, AutoTokenizer\n",
    "\n",
    "llama = AutoModelForCausalLM.from_pretrained(\n",
    "    model_id,\n",
    "    trust_remote_code=True,\n",
    "    config=model_config,\n",
    "    quantization_config=bnb_config,\n",
    "    device_map='auto',\n",
    "    token=True\n",
    ")\n",
    "\n",
    "llama_tokenizer = AutoTokenizer.from_pretrained(\n",
    "    model_id,\n",
    "    token=True\n",
    ")"
   ]
  },
  {
   "cell_type": "code",
   "execution_count": 7,
   "id": "fa086cfa-76a9-4167-a404-6f9d133cb1fc",
   "metadata": {},
   "outputs": [
    {
     "name": "stderr",
     "output_type": "stream",
     "text": [
      "2023-12-03 18:46:16.241456: I tensorflow/core/platform/cpu_feature_guard.cc:193] This TensorFlow binary is optimized with oneAPI Deep Neural Network Library (oneDNN) to use the following CPU instructions in performance-critical operations:  AVX2 FMA\n",
      "To enable them in other operations, rebuild TensorFlow with the appropriate compiler flags.\n",
      "2023-12-03 18:46:17.035119: W tensorflow/compiler/xla/stream_executor/platform/default/dso_loader.cc:64] Could not load dynamic library 'libnvinfer.so.7'; dlerror: libnvinfer.so.7: cannot open shared object file: No such file or directory; LD_LIBRARY_PATH: /usr/local/nvidia/lib:/usr/local/nvidia/lib64\n",
      "2023-12-03 18:46:17.035283: W tensorflow/compiler/xla/stream_executor/platform/default/dso_loader.cc:64] Could not load dynamic library 'libnvinfer_plugin.so.7'; dlerror: libnvinfer_plugin.so.7: cannot open shared object file: No such file or directory; LD_LIBRARY_PATH: /usr/local/nvidia/lib:/usr/local/nvidia/lib64\n",
      "2023-12-03 18:46:17.035290: W tensorflow/compiler/tf2tensorrt/utils/py_utils.cc:38] TF-TRT Warning: Cannot dlopen some TensorRT libraries. If you would like to use Nvidia GPU with TensorRT, please make sure the missing libraries mentioned above are installed properly.\n"
     ]
    }
   ],
   "source": [
    "from transformers import pipeline\n",
    "\n",
    "pipe = pipeline(\n",
    "    model=llama,\n",
    "    tokenizer=llama_tokenizer,\n",
    "    return_full_text=True,  # langchain expects the full text\n",
    "    task='text-generation',\n",
    "    temperature=0.1,  # 'randomness' of outputs, 0.0 is the min and 1.0 the max\n",
    "    repetition_penalty=1.1  # without this output begins repeating\n",
    ")"
   ]
  },
  {
   "cell_type": "code",
   "execution_count": null,
   "id": "513feefd-d124-495d-99ae-ef1096f7861a",
   "metadata": {},
   "outputs": [],
   "source": [
    "from langchain import HuggingFacePipeline\n",
    "\n",
    "llm = HuggingFacePipeline(pipeline=pipe)"
   ]
  },
  {
   "cell_type": "markdown",
   "id": "9a23d53e-7801-430b-9798-07e6e17ebe13",
   "metadata": {},
   "source": [
    "## Decoder Pipeline and evaluation"
   ]
  },
  {
   "cell_type": "code",
   "execution_count": null,
   "id": "04e5a514-a7b1-4bf8-b7bd-2796925a331a",
   "metadata": {},
   "outputs": [
    {
     "data": {
      "text/plain": [
       "DatasetDict({\n",
       "    train: Dataset({\n",
       "        features: ['id', 'title', 'context', 'question', 'answers'],\n",
       "        num_rows: 130319\n",
       "    })\n",
       "    validation: Dataset({\n",
       "        features: ['id', 'title', 'context', 'question', 'answers'],\n",
       "        num_rows: 11873\n",
       "    })\n",
       "})"
      ]
     },
     "execution_count": 9,
     "metadata": {},
     "output_type": "execute_result"
    }
   ],
   "source": [
    "from datasets import load_dataset\n",
    "\n",
    "ds = load_dataset(\"squad_v2\")\n",
    "ds"
   ]
  },
  {
   "cell_type": "code",
   "execution_count": null,
   "id": "ba984e71-0f47-4513-b9c9-e4cd637367f3",
   "metadata": {},
   "outputs": [],
   "source": [
    "trn = ds[\"train\"]\n",
    "val = ds[\"validation\"]"
   ]
  },
  {
   "cell_type": "code",
   "execution_count": null,
   "id": "29299d6b-d603-49bf-a04c-8474e3c0e8b3",
   "metadata": {},
   "outputs": [],
   "source": [
    "from transformers import Pipeline, TextIteratorStreamer\n",
    "from threading import Thread\n",
    "\n",
    "class DecoderPipeline(Pipeline):\n",
    "    def _sanitize_parameters(self, **kwargs):\n",
    "        preprocess_kwargs = {}\n",
    "        return preprocess_kwargs, {}, {}\n",
    "\n",
    "    def preprocess(self, text):\n",
    "        # TODO: Prompt Template -> tokenizer.apply_chat_template\n",
    "        if self.tokenizer.pad_token is None:\n",
    "            tokenizer.add_special_tokens({'pad_token': '[PAD]'})\n",
    "        return self.tokenizer(text, padding=True, truncation=True, return_tensors=\"pt\").to(self.device)\n",
    "\n",
    "    def _forward(self, inputs):\n",
    "        streamer = TextIteratorStreamer(tokenizer, skip_prompt=True, skip_special_tokens=True)\n",
    "        generation_kwargs = dict(inputs, streamer=streamer, max_new_tokens=200)\n",
    "        thread = Thread(target=model.generate, kwargs=generation_kwargs)\n",
    "        thread.start()\n",
    "        generated_text = \"\"\n",
    "        for new_text in streamer:\n",
    "            generated_text += new_text\n",
    "        generated_text\n",
    "        return generated_text\n",
    "\n",
    "    def postprocess(self, outputs):\n",
    "        outputs = outputs.replace(\".\\n\", \" \")\n",
    "        outputs = outputs.replace(\"\\n\", \"\")\n",
    "        return outputs"
   ]
  },
  {
   "cell_type": "code",
   "execution_count": null,
   "id": "97912b43-1b21-46f6-beda-5619d205ee2a",
   "metadata": {},
   "outputs": [],
   "source": [
    "def get_prompt(question, context):\n",
    "    return f\"\"\"Answer the following Question based on the Context only. Only answer from the Context. If you don't know the answer, say 'I don't know'.\n",
    "    question: {question}\\n\\n\n",
    "    context: {context}\\n\\n\n",
    "    Answer:\\n\"\"\""
   ]
  },
  {
   "cell_type": "code",
   "execution_count": null,
   "id": "5d34b480-d023-42b9-b885-7d4a1bef594e",
   "metadata": {},
   "outputs": [],
   "source": [
    "from langchain.evaluation import load_evaluator\n",
    "\n",
    "qa_evaluator = load_evaluator(\"context_qa\", llm=llm)\n",
    "\n",
    "def evaluate_context_qa(question, prediction, context, answer):\n",
    "    res = qa_evaluator.evaluate_strings(\n",
    "        input=question,\n",
    "        prediction=prediction,\n",
    "        context=context,\n",
    "        reference=answer # Answer\n",
    "    )\n",
    "    return res.get(\"score\")"
   ]
  },
  {
   "cell_type": "code",
   "execution_count": null,
   "id": "8803cbee-7921-4410-af7f-d6b90c4a87e5",
   "metadata": {},
   "outputs": [],
   "source": [
    "correctness_evaluator = load_evaluator(\"labeled_criteria\", criteria=\"correctness\", llm=llm, requires_reference=True)\n",
    "\n",
    "def evaluate_correctness(prompt, prediction, context):\n",
    "    res = correctness_evaluator.evaluate_strings(\n",
    "        input=prompt,\n",
    "        prediction=prediction,\n",
    "        context=context,\n",
    "        reference=context # Answer\n",
    "    )\n",
    "    return res.get(\"score\"), res.get(\"reasoning\")"
   ]
  },
  {
   "cell_type": "code",
   "execution_count": null,
   "id": "c3d30c5f-4d7f-45e5-88b6-1480b912b1ac",
   "metadata": {},
   "outputs": [],
   "source": [
    "models = [\n",
    "    \"HuggingFaceH4/zephyr-7b-beta\",\n",
    "    \"microsoft/Orca-2-13b\",\n",
    "    \"mistralai/Mistral-7B-Instruct-v0.1\",\n",
    "    \"Intel/neural-chat-7b-v3-1\",\n",
    "    \"tiiuae/falcon-7b-instruct\",\n",
    "    \"meta-llama/Llama-2-7b-chat-hf\",\n",
    "    #\"meta-llama/Llama-2-70b-chat-hf\", -> Config\n",
    "]"
   ]
  },
  {
   "cell_type": "code",
   "execution_count": null,
   "id": "2771af1f-3916-4c9c-9079-0c477508562c",
   "metadata": {},
   "outputs": [],
   "source": [
    "import ray\n",
    "\n",
    "@ray.remote#(num_gpus=1, max_calls=1)\n",
    "def evaluate(model_id, iterations, results):\n",
    "    # Init model\n",
    "    if \"llama\" in model_id:\n",
    "        model_config = AutoConfig.from_pretrained(\n",
    "            pretrained_model_name_or_path=model_id,\n",
    "            token=True\n",
    "        )\n",
    "        model = AutoModelForCausalLM.from_pretrained(model_id, device_map='auto', config=model_config)\n",
    "        tokenizer = AutoTokenizer.from_pretrained(model_id)\n",
    "    else:\n",
    "        tokenizer = AutoTokenizer.from_pretrained(model_id)\n",
    "        model = AutoModelForCausalLM.from_pretrained(model_id).to(device)\n",
    "    \n",
    "    decoder = DecoderPipeline(model=model, tokenizer=tokenizer, device=device)\n",
    "\n",
    "    # Test on SQuaDv2\n",
    "    pbar2 = tqdm(total=iterations, position=1)\n",
    "    for i in range(0, iterations):\n",
    "        # Data\n",
    "        question = val[i][\"question\"]\n",
    "        context = val[i][\"context\"]\n",
    "        answer_list = val[i][\"answers\"].get(\"text\")\n",
    "        answer = \"I don't know\"\n",
    "        is_possible = False\n",
    "        if len(answer_list) > 0:\n",
    "            is_possible = True\n",
    "            answer = answer_list[0]\n",
    "        \n",
    "        # Inference\n",
    "        prompt = get_prompt(question=question, context=context)\n",
    "        pred = decoder(prompt)\n",
    "\n",
    "        # Evaluation\n",
    "        qa_score = evaluate_context_qa(\n",
    "            question=question,\n",
    "            prediction=pred,\n",
    "            context=context,\n",
    "            answer=answer\n",
    "        )\n",
    "        correctness_score, reasoning = evaluate_correctness(\n",
    "            prompt=prompt,\n",
    "            prediction=pred,\n",
    "            context=context\n",
    "        )\n",
    "\n",
    "        results.append(\n",
    "            {\n",
    "                \"name\": model_id,\n",
    "                \"question\": question,\n",
    "                \"prediction\": pred,\n",
    "                \"is_possible\": is_possible,\n",
    "                \"context\": context,\n",
    "                \"qa_score\": qa_score,\n",
    "                \"correctness_score\": correctness_score,\n",
    "                \"reasoning\": reasoning\n",
    "            }\n",
    "        )\n",
    "        \n",
    "        torch.cuda.empty_cache()\n",
    "        pbar2.update(1)\n",
    "    \n",
    "    # clean up\n",
    "    del model\n",
    "    del tokenizer\n",
    "    del decoder\n",
    "    \n",
    "    \n",
    "    pbar1.update(1)"
   ]
  },
  {
   "cell_type": "code",
   "execution_count": null,
   "id": "643542b9-608d-4952-b9e5-58a72a96ed00",
   "metadata": {},
   "outputs": [
    {
     "name": "stderr",
     "output_type": "stream",
     "text": [
      "  0%|          | 0/6 [00:00<?, ?it/s]2023-12-03 18:46:28,444\tWARNING services.py:1996 -- WARNING: The object store is using /tmp instead of /dev/shm because /dev/shm has only 8589930496 bytes available. This will harm performance! You may be able to free up space by deleting files in /dev/shm. If you are inside a Docker container, you can increase /dev/shm size by passing '--shm-size=10.24gb' to 'docker run' (or add it to the run_options list in a Ray cluster config). Make sure to set this to more than 30% of available RAM.\n",
      "2023-12-03 18:46:29,630\tINFO worker.py:1673 -- Started a local Ray instance.\n"
     ]
    }
   ],
   "source": [
    "from tqdm import tqdm\n",
    "import pandas as pd\n",
    "from transformers import logging\n",
    "import sys\n",
    "\n",
    "if not sys.warnoptions:\n",
    "    import warnings\n",
    "    warnings.simplefilter(\"ignore\")\n",
    "\n",
    "pbar1 = tqdm(total=len(models), position=0)\n",
    "iterations = 120\n",
    "\n",
    "results = []\n",
    "\n",
    "\n",
    "for model_id in models:\n",
    "    evaluate.remote(model_id, iterations, results)"
   ]
  },
  {
   "cell_type": "code",
   "execution_count": null,
   "id": "0eb04022-0672-46ff-a68e-e2f832bd7f80",
   "metadata": {},
   "outputs": [],
   "source": [
    "df = pd.DataFrame(results)\n",
    "df.to_pickle(\"results.pkl\")"
   ]
  },
  {
   "cell_type": "code",
   "execution_count": null,
   "id": "07e14944-e666-4139-9bef-d8e28c121599",
   "metadata": {},
   "outputs": [],
   "source": [
    "del llama\n",
    "torch.cuda.empty_cache()"
   ]
  },
  {
   "cell_type": "code",
   "execution_count": null,
   "id": "5207fb3f-c190-47e7-a6e0-d1116b3044b6",
   "metadata": {},
   "outputs": [],
   "source": [
    "#del model\n",
    "#del tokenizer\n",
    "#del decoder\n",
    "torch.cuda.empty_cache()"
   ]
  }
 ],
 "metadata": {
  "kernelspec": {
   "display_name": "Python 3 (ipykernel)",
   "language": "python",
   "name": "python3"
  },
  "language_info": {
   "codemirror_mode": {
    "name": "ipython",
    "version": 3
   },
   "file_extension": ".py",
   "mimetype": "text/x-python",
   "name": "python",
   "nbconvert_exporter": "python",
   "pygments_lexer": "ipython3",
   "version": "3.10.11"
  }
 },
 "nbformat": 4,
 "nbformat_minor": 5
}
