{
 "cells": [
  {
   "cell_type": "markdown",
   "id": "e727b062-4d23-4322-aabc-5b32a8ab6f9b",
   "metadata": {},
   "source": [
    "# Decoder evaluation"
   ]
  },
  {
   "cell_type": "code",
   "execution_count": 1,
   "id": "9b9b3d18-4a75-4da1-8c2e-76cff1b76459",
   "metadata": {},
   "outputs": [],
   "source": [
    "!pip install -U transformers sentencepiece bitsandbytes accelerate rouge_score langchain --quiet"
   ]
  },
  {
   "cell_type": "code",
   "execution_count": 2,
   "id": "44ae6750-c036-4d6c-abda-3db1e7bd2f6b",
   "metadata": {},
   "outputs": [
    {
     "data": {
      "application/vnd.jupyter.widget-view+json": {
       "model_id": "60cdcdbda55045d7be2f503ada90db48",
       "version_major": 2,
       "version_minor": 0
      },
      "text/plain": [
       "VBox(children=(HTML(value='<center> <img\\nsrc=https://huggingface.co/front/assets/huggingface_logo-noborder.sv…"
      ]
     },
     "metadata": {},
     "output_type": "display_data"
    }
   ],
   "source": [
    "from huggingface_hub import login\n",
    "login()"
   ]
  },
  {
   "cell_type": "code",
   "execution_count": 3,
   "id": "f5b47f83-9ce6-4f1b-b21d-6af89d1a9734",
   "metadata": {},
   "outputs": [
    {
     "data": {
      "text/plain": [
       "'cuda:0'"
      ]
     },
     "execution_count": 3,
     "metadata": {},
     "output_type": "execute_result"
    }
   ],
   "source": [
    "import torch\n",
    "\n",
    "device = \"cuda:0\" if torch.cuda.is_available() else \"cpu\"\n",
    "device"
   ]
  },
  {
   "cell_type": "markdown",
   "id": "6f278846-eab0-4a3b-ad32-2b9bdad37821",
   "metadata": {},
   "source": [
    "## Evaluator LLM (Llama 2 70b)"
   ]
  },
  {
   "cell_type": "code",
   "execution_count": 4,
   "id": "35986c24-d164-4df1-a929-eb1f00de32c2",
   "metadata": {},
   "outputs": [],
   "source": [
    "from torch import bfloat16\n",
    "from transformers import BitsAndBytesConfig\n",
    "\n",
    "bnb_config = BitsAndBytesConfig(\n",
    "    load_in_4bit=True,\n",
    "    bnb_4bit_quant_type='nf4',\n",
    "    bnb_4bit_use_double_quant=True,\n",
    "    bnb_4bit_compute_dtype=bfloat16\n",
    ")"
   ]
  },
  {
   "cell_type": "code",
   "execution_count": 6,
   "id": "25e24aee-9e41-4a32-b564-7b04758aac23",
   "metadata": {},
   "outputs": [],
   "source": [
    "from transformers import AutoConfig\n",
    "\n",
    "model_id = \"meta-llama/Llama-2-70b-chat-hf\"\n",
    "\n",
    "model_config = AutoConfig.from_pretrained(\n",
    "    model_id,\n",
    "    token=True\n",
    ")"
   ]
  },
  {
   "cell_type": "code",
   "execution_count": 8,
   "id": "4d28b256-3e9f-4257-abdd-a9e26893c91c",
   "metadata": {},
   "outputs": [
    {
     "data": {
      "application/vnd.jupyter.widget-view+json": {
       "model_id": "6f06e4578aa546d9adb7fdd6887873f7",
       "version_major": 2,
       "version_minor": 0
      },
      "text/plain": [
       "Downloading shards:   0%|          | 0/15 [00:00<?, ?it/s]"
      ]
     },
     "metadata": {},
     "output_type": "display_data"
    },
    {
     "data": {
      "application/vnd.jupyter.widget-view+json": {
       "model_id": "94c2f661c48e4f1580411561ff048e80",
       "version_major": 2,
       "version_minor": 0
      },
      "text/plain": [
       "Downloading (…)of-00015.safetensors:   0%|          | 0.00/9.80G [00:00<?, ?B/s]"
      ]
     },
     "metadata": {},
     "output_type": "display_data"
    },
    {
     "data": {
      "application/vnd.jupyter.widget-view+json": {
       "model_id": "5d2e38a52a0f4c8a80618c50cb93db2a",
       "version_major": 2,
       "version_minor": 0
      },
      "text/plain": [
       "Downloading (…)of-00015.safetensors:   0%|          | 0.00/9.80G [00:00<?, ?B/s]"
      ]
     },
     "metadata": {},
     "output_type": "display_data"
    },
    {
     "data": {
      "application/vnd.jupyter.widget-view+json": {
       "model_id": "270358b7751f4019b09185d494d30796",
       "version_major": 2,
       "version_minor": 0
      },
      "text/plain": [
       "Downloading (…)of-00015.safetensors:   0%|          | 0.00/9.80G [00:00<?, ?B/s]"
      ]
     },
     "metadata": {},
     "output_type": "display_data"
    },
    {
     "data": {
      "application/vnd.jupyter.widget-view+json": {
       "model_id": "079351938a074cbdb18733f8fd16ee3f",
       "version_major": 2,
       "version_minor": 0
      },
      "text/plain": [
       "Downloading (…)of-00015.safetensors:   0%|          | 0.00/9.97G [00:00<?, ?B/s]"
      ]
     },
     "metadata": {},
     "output_type": "display_data"
    },
    {
     "data": {
      "application/vnd.jupyter.widget-view+json": {
       "model_id": "c78cff81ad4e46aea93d84a75f7b1e2e",
       "version_major": 2,
       "version_minor": 0
      },
      "text/plain": [
       "Downloading (…)of-00015.safetensors:   0%|          | 0.00/9.80G [00:00<?, ?B/s]"
      ]
     },
     "metadata": {},
     "output_type": "display_data"
    },
    {
     "data": {
      "application/vnd.jupyter.widget-view+json": {
       "model_id": "d23a4ff1cbc94441a63c0778bba203ee",
       "version_major": 2,
       "version_minor": 0
      },
      "text/plain": [
       "Downloading (…)of-00015.safetensors:   0%|          | 0.00/9.80G [00:00<?, ?B/s]"
      ]
     },
     "metadata": {},
     "output_type": "display_data"
    },
    {
     "data": {
      "application/vnd.jupyter.widget-view+json": {
       "model_id": "7bcabdc5cb0d46e0b88bd8f79b5ae9f7",
       "version_major": 2,
       "version_minor": 0
      },
      "text/plain": [
       "Downloading (…)of-00015.safetensors:   0%|          | 0.00/9.80G [00:00<?, ?B/s]"
      ]
     },
     "metadata": {},
     "output_type": "display_data"
    },
    {
     "data": {
      "application/vnd.jupyter.widget-view+json": {
       "model_id": "0841678ca28e45758f117b5d510cdb31",
       "version_major": 2,
       "version_minor": 0
      },
      "text/plain": [
       "Downloading (…)of-00015.safetensors:   0%|          | 0.00/9.97G [00:00<?, ?B/s]"
      ]
     },
     "metadata": {},
     "output_type": "display_data"
    },
    {
     "data": {
      "application/vnd.jupyter.widget-view+json": {
       "model_id": "f9751b613034498aa1da474253532e41",
       "version_major": 2,
       "version_minor": 0
      },
      "text/plain": [
       "Downloading (…)of-00015.safetensors:   0%|          | 0.00/9.80G [00:00<?, ?B/s]"
      ]
     },
     "metadata": {},
     "output_type": "display_data"
    },
    {
     "data": {
      "application/vnd.jupyter.widget-view+json": {
       "model_id": "861bbbccf16746918d44769ceb709b40",
       "version_major": 2,
       "version_minor": 0
      },
      "text/plain": [
       "Downloading (…)of-00015.safetensors:   0%|          | 0.00/9.80G [00:00<?, ?B/s]"
      ]
     },
     "metadata": {},
     "output_type": "display_data"
    },
    {
     "data": {
      "application/vnd.jupyter.widget-view+json": {
       "model_id": "a80b6c9da53849dab64556250a49f4ad",
       "version_major": 2,
       "version_minor": 0
      },
      "text/plain": [
       "Downloading (…)of-00015.safetensors:   0%|          | 0.00/9.50G [00:00<?, ?B/s]"
      ]
     },
     "metadata": {},
     "output_type": "display_data"
    },
    {
     "data": {
      "application/vnd.jupyter.widget-view+json": {
       "model_id": "ed9ee868fdbc4d45b63894b147f3cc94",
       "version_major": 2,
       "version_minor": 0
      },
      "text/plain": [
       "Downloading (…)of-00015.safetensors:   0%|          | 0.00/524M [00:00<?, ?B/s]"
      ]
     },
     "metadata": {},
     "output_type": "display_data"
    },
    {
     "data": {
      "application/vnd.jupyter.widget-view+json": {
       "model_id": "f7cf6665a4564575a9955ce666d2ad2b",
       "version_major": 2,
       "version_minor": 0
      },
      "text/plain": [
       "Loading checkpoint shards:   0%|          | 0/15 [00:00<?, ?it/s]"
      ]
     },
     "metadata": {},
     "output_type": "display_data"
    },
    {
     "name": "stderr",
     "output_type": "stream",
     "text": [
      "/opt/conda/lib/python3.10/site-packages/transformers/utils/hub.py:374: FutureWarning: The `use_auth_token` argument is deprecated and will be removed in v5 of Transformers. Please use `token` instead.\n",
      "  warnings.warn(\n"
     ]
    },
    {
     "data": {
      "application/vnd.jupyter.widget-view+json": {
       "model_id": "7bffc5415e0d4b3d99c8b21512a7fb17",
       "version_major": 2,
       "version_minor": 0
      },
      "text/plain": [
       "Downloading generation_config.json:   0%|          | 0.00/188 [00:00<?, ?B/s]"
      ]
     },
     "metadata": {},
     "output_type": "display_data"
    },
    {
     "data": {
      "application/vnd.jupyter.widget-view+json": {
       "model_id": "11803eb346b547a6aa16bc0f81205b58",
       "version_major": 2,
       "version_minor": 0
      },
      "text/plain": [
       "Downloading tokenizer_config.json:   0%|          | 0.00/1.62k [00:00<?, ?B/s]"
      ]
     },
     "metadata": {},
     "output_type": "display_data"
    },
    {
     "data": {
      "application/vnd.jupyter.widget-view+json": {
       "model_id": "74cd8be5cab144198e482075721782bf",
       "version_major": 2,
       "version_minor": 0
      },
      "text/plain": [
       "Downloading tokenizer.model:   0%|          | 0.00/500k [00:00<?, ?B/s]"
      ]
     },
     "metadata": {},
     "output_type": "display_data"
    },
    {
     "data": {
      "application/vnd.jupyter.widget-view+json": {
       "model_id": "916ec081a3054fcd84430f6805f9219e",
       "version_major": 2,
       "version_minor": 0
      },
      "text/plain": [
       "Downloading tokenizer.json:   0%|          | 0.00/1.84M [00:00<?, ?B/s]"
      ]
     },
     "metadata": {},
     "output_type": "display_data"
    },
    {
     "data": {
      "application/vnd.jupyter.widget-view+json": {
       "model_id": "e89c23611b0b4c54b0ff39d8b517e6c8",
       "version_major": 2,
       "version_minor": 0
      },
      "text/plain": [
       "Downloading (…)cial_tokens_map.json:   0%|          | 0.00/414 [00:00<?, ?B/s]"
      ]
     },
     "metadata": {},
     "output_type": "display_data"
    }
   ],
   "source": [
    "from transformers import AutoModelForCausalLM, AutoTokenizer\n",
    "\n",
    "model = AutoModelForCausalLM.from_pretrained(\n",
    "    model_id,\n",
    "    trust_remote_code=True,\n",
    "    config=model_config,\n",
    "    quantization_config=bnb_config,\n",
    "    device_map='auto',\n",
    "    token=True\n",
    ")\n",
    "\n",
    "tokenizer = AutoTokenizer.from_pretrained(\n",
    "    model_id,\n",
    "    token=True\n",
    ")"
   ]
  },
  {
   "cell_type": "code",
   "execution_count": 9,
   "id": "fa086cfa-76a9-4167-a404-6f9d133cb1fc",
   "metadata": {},
   "outputs": [
    {
     "name": "stderr",
     "output_type": "stream",
     "text": [
      "2023-12-03 10:38:34.759701: I tensorflow/core/platform/cpu_feature_guard.cc:193] This TensorFlow binary is optimized with oneAPI Deep Neural Network Library (oneDNN) to use the following CPU instructions in performance-critical operations:  AVX2 FMA\n",
      "To enable them in other operations, rebuild TensorFlow with the appropriate compiler flags.\n",
      "2023-12-03 10:38:35.524297: W tensorflow/compiler/xla/stream_executor/platform/default/dso_loader.cc:64] Could not load dynamic library 'libnvinfer.so.7'; dlerror: libnvinfer.so.7: cannot open shared object file: No such file or directory; LD_LIBRARY_PATH: /usr/local/nvidia/lib:/usr/local/nvidia/lib64\n",
      "2023-12-03 10:38:35.524388: W tensorflow/compiler/xla/stream_executor/platform/default/dso_loader.cc:64] Could not load dynamic library 'libnvinfer_plugin.so.7'; dlerror: libnvinfer_plugin.so.7: cannot open shared object file: No such file or directory; LD_LIBRARY_PATH: /usr/local/nvidia/lib:/usr/local/nvidia/lib64\n",
      "2023-12-03 10:38:35.524395: W tensorflow/compiler/tf2tensorrt/utils/py_utils.cc:38] TF-TRT Warning: Cannot dlopen some TensorRT libraries. If you would like to use Nvidia GPU with TensorRT, please make sure the missing libraries mentioned above are installed properly.\n"
     ]
    }
   ],
   "source": [
    "from transformers import pipeline\n",
    "\n",
    "pipe = pipeline(\n",
    "    model=model,\n",
    "    tokenizer=tokenizer,\n",
    "    return_full_text=True,  # langchain expects the full text\n",
    "    task='text-generation',\n",
    "    temperature=0.1,  # 'randomness' of outputs, 0.0 is the min and 1.0 the max\n",
    "    repetition_penalty=1.1  # without this output begins repeating\n",
    ")"
   ]
  },
  {
   "cell_type": "code",
   "execution_count": 30,
   "id": "513feefd-d124-495d-99ae-ef1096f7861a",
   "metadata": {},
   "outputs": [],
   "source": [
    "from langchain import HuggingFacePipeline\n",
    "\n",
    "llm = HuggingFacePipeline(pipeline=pipe)"
   ]
  },
  {
   "cell_type": "markdown",
   "id": "9a23d53e-7801-430b-9798-07e6e17ebe13",
   "metadata": {},
   "source": [
    "## Decoder Pipeline and evaluation"
   ]
  },
  {
   "cell_type": "code",
   "execution_count": 12,
   "id": "04e5a514-a7b1-4bf8-b7bd-2796925a331a",
   "metadata": {},
   "outputs": [
    {
     "data": {
      "text/plain": [
       "DatasetDict({\n",
       "    train: Dataset({\n",
       "        features: ['id', 'title', 'context', 'question', 'answers'],\n",
       "        num_rows: 130319\n",
       "    })\n",
       "    validation: Dataset({\n",
       "        features: ['id', 'title', 'context', 'question', 'answers'],\n",
       "        num_rows: 11873\n",
       "    })\n",
       "})"
      ]
     },
     "execution_count": 12,
     "metadata": {},
     "output_type": "execute_result"
    }
   ],
   "source": [
    "from datasets import load_dataset\n",
    "\n",
    "ds = load_dataset(\"squad_v2\")\n",
    "ds"
   ]
  },
  {
   "cell_type": "code",
   "execution_count": 13,
   "id": "ba984e71-0f47-4513-b9c9-e4cd637367f3",
   "metadata": {},
   "outputs": [],
   "source": [
    "trn = ds[\"train\"]\n",
    "val = ds[\"validation\"]"
   ]
  },
  {
   "cell_type": "code",
   "execution_count": 34,
   "id": "29299d6b-d603-49bf-a04c-8474e3c0e8b3",
   "metadata": {},
   "outputs": [],
   "source": [
    "from transformers import Pipeline, TextIteratorStreamer\n",
    "from threading import Thread\n",
    "\n",
    "class DecoderPipeline(Pipeline):\n",
    "    def _sanitize_parameters(self, **kwargs):\n",
    "        preprocess_kwargs = {}\n",
    "        return preprocess_kwargs, {}, {}\n",
    "\n",
    "    def preprocess(self, text):\n",
    "        # TODO: Prompt Template -> tokenizer.apply_chat_template\n",
    "        if self.tokenizer.pad_token is None:\n",
    "            tokenizer.add_special_tokens({'pad_token': '[PAD]'})\n",
    "        return self.tokenizer(text, padding=True, truncation=True, return_tensors=\"pt\").to(self.device)\n",
    "\n",
    "    def _forward(self, inputs):\n",
    "        streamer = TextIteratorStreamer(tokenizer, skip_prompt=True, skip_special_tokens=True)\n",
    "        generation_kwargs = dict(inputs, streamer=streamer, max_new_tokens=200)\n",
    "        thread = Thread(target=model.generate, kwargs=generation_kwargs)\n",
    "        thread.start()\n",
    "        generated_text = \"\"\n",
    "        for new_text in streamer:\n",
    "            generated_text += new_text\n",
    "        generated_text\n",
    "        return generated_text\n",
    "\n",
    "    def postprocess(self, outputs):\n",
    "        outputs = outputs.replace(\".\\n\", \" \")\n",
    "        outputs = outputs.replace(\"\\n\", \"\")\n",
    "        return outputs"
   ]
  },
  {
   "cell_type": "code",
   "execution_count": 35,
   "id": "97912b43-1b21-46f6-beda-5619d205ee2a",
   "metadata": {},
   "outputs": [],
   "source": [
    "def get_prompt(question, context):\n",
    "    return f\"\"\"Answer the following Question based on the Context only. Only answer from the Context. If you don't know the answer, say 'I don't know'.\n",
    "    question: {question}\\n\\n\n",
    "    context: {context}\\n\\n\n",
    "    Answer:\\n\"\"\""
   ]
  },
  {
   "cell_type": "code",
   "execution_count": 39,
   "id": "5d34b480-d023-42b9-b885-7d4a1bef594e",
   "metadata": {},
   "outputs": [],
   "source": [
    "from langchain.evaluation import load_evaluator\n",
    "\n",
    "qa_evaluator = load_evaluator(\"context_qa\", llm=llm)\n",
    "\n",
    "def evaluate_context_qa(question, prediction, context, answer):\n",
    "    res = qa_evaluator.evaluate_strings(\n",
    "        input=question,\n",
    "        prediction=prediction,\n",
    "        context=context,\n",
    "        reference=answer # Answer\n",
    "    )\n",
    "    return res.get(\"score\")"
   ]
  },
  {
   "cell_type": "code",
   "execution_count": 40,
   "id": "8803cbee-7921-4410-af7f-d6b90c4a87e5",
   "metadata": {},
   "outputs": [],
   "source": [
    "correctness_evaluator = load_evaluator(\"labeled_criteria\", criteria=\"correctness\", llm=llm, requires_reference=True)\n",
    "\n",
    "def evaluate_correctness(prompt, prediction, context):\n",
    "    res = correctness_evaluator.evaluate_strings(\n",
    "        input=prompt,\n",
    "        prediction=prediction,\n",
    "        context=context,\n",
    "        reference=context # Answer\n",
    "    )\n",
    "    return res.get(\"score\"), res.get(\"reasoning\")"
   ]
  },
  {
   "cell_type": "code",
   "execution_count": 41,
   "id": "c3d30c5f-4d7f-45e5-88b6-1480b912b1ac",
   "metadata": {},
   "outputs": [],
   "source": [
    "models = [\n",
    "    \"HuggingFaceH4/zephyr-7b-beta\",\n",
    "    \"microsoft/Orca-2-13b\",\n",
    "    \"mistralai/Mistral-7B-Instruct-v0.1\",\n",
    "    \"Intel/neural-chat-7b-v3-1\",\n",
    "    \"tiiuae/falcon-7b-instruct\",\n",
    "    \"meta-llama/Llama-2-7b-chat-hf\",\n",
    "    #\"meta-llama/Llama-2-70b-chat-hf\", -> Config\n",
    "]"
   ]
  },
  {
   "cell_type": "code",
   "execution_count": null,
   "id": "643542b9-608d-4952-b9e5-58a72a96ed00",
   "metadata": {},
   "outputs": [
    {
     "name": "stderr",
     "output_type": "stream",
     "text": [
      "  0%|          | 0/6 [00:00<?, ?it/s]"
     ]
    },
    {
     "data": {
      "application/vnd.jupyter.widget-view+json": {
       "model_id": "bf562d9f2f8f4b9ea4f56f42bf232eba",
       "version_major": 2,
       "version_minor": 0
      },
      "text/plain": [
       "Loading checkpoint shards:   0%|          | 0/8 [00:00<?, ?it/s]"
      ]
     },
     "metadata": {},
     "output_type": "display_data"
    }
   ],
   "source": [
    "from tqdm import tqdm\n",
    "import pandas as pd\n",
    "\n",
    "pbar1 = tqdm(total=len(models), position=0)\n",
    "iterations = 500\n",
    "\n",
    "results = []\n",
    "\n",
    "\n",
    "for model_id in models:\n",
    "    # Init model\n",
    "    if \"llama\" in model_id:\n",
    "        model_config = AutoConfig.from_pretrained(\n",
    "            pretrained_model_name_or_path=model_id,\n",
    "            token=True\n",
    "        )\n",
    "        model = AutoModelForCausalLM.from_pretrained(model_id, device_map='auto', config=model_config)\n",
    "        tokenizer = AutoTokenizer.from_pretrained(model_id)\n",
    "    else:\n",
    "        tokenizer = AutoTokenizer.from_pretrained(model_id)\n",
    "        model = AutoModelForCausalLM.from_pretrained(model_id).to(device)\n",
    "    \n",
    "    decoder = DecoderPipeline(model=model, tokenizer=tokenizer, device=device)\n",
    "\n",
    "    # Test on SQuaDv2\n",
    "    pbar2 = tqdm(total=500, position=1)\n",
    "    for i in range(0, iterations):\n",
    "        # Data\n",
    "        question = val[i][\"question\"]\n",
    "        context = val[i][\"context\"]\n",
    "        answer_list = val[i][\"answers\"].get(\"text\")\n",
    "        answer = \"I don't know\"\n",
    "        is_possible = False\n",
    "        if len(answer_list) > 0:\n",
    "            is_possible = True\n",
    "            answer = answer_list[0]\n",
    "        \n",
    "        # Inference\n",
    "        prompt = get_prompt(question=question, context=context)\n",
    "        pred = decoder(prompt)\n",
    "\n",
    "        # Evaluation\n",
    "        qa_score = evaluate_context_qa(\n",
    "            question=question,\n",
    "            prediction=pred,\n",
    "            context=context,\n",
    "            answer=answer\n",
    "        )\n",
    "        correctness_score, reasoning = evaluate_correctness(\n",
    "            prompt=prompt,\n",
    "            prediction=pred,\n",
    "            context=context\n",
    "        )\n",
    "\n",
    "        results.append(\n",
    "            {\n",
    "                \"name\": model_id,\n",
    "                \"question\": question,\n",
    "                \"prediction\": pred,\n",
    "                \"is_possible\": is_possible,\n",
    "                \"context\": context,\n",
    "                \"qa_score\": qa_score,\n",
    "                \"correctness_score\": correctness_score,\n",
    "                \"reasoning\": reasoning\n",
    "            }\n",
    "        )\n",
    "        \n",
    "        \n",
    "        pbar2.update(1)\n",
    "    \n",
    "    # clean up\n",
    "    del model\n",
    "    del tokenizer\n",
    "    del decoder\n",
    "    #torch.cuda.empty_cache()\n",
    "    pbar1.update(1)\n",
    "\n",
    "df = pd.DataFrame(results)\n",
    "df.to_pickle(\"results.pkl\")"
   ]
  },
  {
   "cell_type": "code",
   "execution_count": null,
   "id": "07e14944-e666-4139-9bef-d8e28c121599",
   "metadata": {},
   "outputs": [],
   "source": [
    "torch.cuda.empty_cache()"
   ]
  }
 ],
 "metadata": {
  "kernelspec": {
   "display_name": "Python 3 (ipykernel)",
   "language": "python",
   "name": "python3"
  },
  "language_info": {
   "codemirror_mode": {
    "name": "ipython",
    "version": 3
   },
   "file_extension": ".py",
   "mimetype": "text/x-python",
   "name": "python",
   "nbconvert_exporter": "python",
   "pygments_lexer": "ipython3",
   "version": "3.10.11"
  }
 },
 "nbformat": 4,
 "nbformat_minor": 5
}
