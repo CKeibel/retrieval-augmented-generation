{
 "cells": [
  {
   "cell_type": "markdown",
   "id": "e727b062-4d23-4322-aabc-5b32a8ab6f9b",
   "metadata": {},
   "source": [
    "# Decoder evaluation"
   ]
  },
  {
   "cell_type": "code",
   "execution_count": null,
   "id": "44ae6750-c036-4d6c-abda-3db1e7bd2f6b",
   "metadata": {},
   "outputs": [],
   "source": [
    "from huggingface_hub import login\n",
    "login()"
   ]
  },
  {
   "cell_type": "code",
   "execution_count": null,
   "id": "29299d6b-d603-49bf-a04c-8474e3c0e8b3",
   "metadata": {},
   "outputs": [],
   "source": [
    "from transformers import Pipeline, TextIteratorStreamer\n",
    "from threading import Thread\n",
    "\n",
    "class DecoderPipeline(Pipeline):\n",
    "    def _sanitize_parameters(self, **kwargs):\n",
    "        preprocess_kwargs = {}\n",
    "        return preprocess_kwargs, {}, {}\n",
    "\n",
    "    def preprocess(self, text):\n",
    "        # TODO: Prompt Template -> tokenizer.apply_chat_template\n",
    "        if self.tokenizer.pad_token is None:\n",
    "            tokenizer.add_special_tokens({'pad_token': '[PAD]'})\n",
    "        return self.tokenizer(text, padding=True, truncation=True, return_tensors=\"pt\").to(self.device)\n",
    "\n",
    "    def _forward(self, inputs):\n",
    "        streamer = TextIteratorStreamer(tokenizer, skip_prompt=True, skip_special_tokens=True)\n",
    "        generation_kwargs = dict(inputs, streamer=streamer, max_new_tokens=200)\n",
    "        thread = Thread(target=model.generate, kwargs=generation_kwargs)\n",
    "        thread.start()\n",
    "        generated_text = \"\"\n",
    "        for new_text in streamer:\n",
    "            generated_text += new_text\n",
    "        generated_text\n",
    "        return generated_text\n",
    "\n",
    "    def postprocess(self, outputs):\n",
    "        outputs = outputs.replace(\".\\n\", \" \")\n",
    "        outputs = outputs.replace(\"\\n\", \"\")\n",
    "        return outputs"
   ]
  },
  {
   "cell_type": "code",
   "execution_count": null,
   "id": "3c11c879-6379-458b-a4b0-0897de64850f",
   "metadata": {},
   "outputs": [],
   "source": [
    "import torch\n",
    "\n",
    "device = \"cuda:0\" if torch.cuda.is_available() else \"cpu\"\n",
    "device"
   ]
  },
  {
   "cell_type": "code",
   "execution_count": 2,
   "id": "c3d30c5f-4d7f-45e5-88b6-1480b912b1ac",
   "metadata": {},
   "outputs": [],
   "source": [
    "models = [\n",
    "    \"HuggingFaceH4/zephyr-7b-beta\",\n",
    "    \"microsoft/Orca-2-13b\",\n",
    "    \"mistralai/Mistral-7B-Instruct-v0.1\",\n",
    "    \"Intel/neural-chat-7b-v3-1\",\n",
    "    \"tiiuae/falcon-7b-instruct\",\n",
    "    #\"meta-llama/Llama-2-7b-chat-hf\", -> Config\n",
    "    #\"meta-llama/Llama-2-70b-chat-hf\", -> Config\n",
    "]"
   ]
  },
  {
   "cell_type": "code",
   "execution_count": 10,
   "id": "643542b9-608d-4952-b9e5-58a72a96ed00",
   "metadata": {},
   "outputs": [
    {
     "name": "stderr",
     "output_type": "stream",
     "text": [
      "100%|██████████| 3/3 [00:00<00:00,  5.47it/s]\n",
      "\n",
      "100%|██████████| 500/500 [00:00<00:00, 922.27it/s]\n",
      "\n",
      "100%|██████████| 500/500 [00:00<00:00, 117632.49it/s]\n",
      "\n",
      "100%|██████████| 500/500 [00:00<00:00, 194324.68it/s]\n"
     ]
    }
   ],
   "source": [
    "from transformers import AutoTokenizer, AutoModelForCausalLM\n",
    "from tqdm import tqdm\n",
    "\n",
    "pbar1 = tqdm(total=len(models), position=0)\n",
    "iterations = 500\n",
    "\n",
    "for model_id in models:\n",
    "    # Init model\n",
    "    tokenizer = AutoTokenizer.from_pretrained(model_id)\n",
    "    model = AutoModelForCausalLM.from_pretrained(model_id).to(device)\n",
    "    decoder = DecoderPipeline(model=model, tokenizer=tokenizer, device=device)\n",
    "\n",
    "    # Test on SQuaDv2\n",
    "    pbar2 = tqdm(total=500, position=1)\n",
    "    for i in range(0, iterations):\n",
    "        question = val[i][\"question\"]\n",
    "        context = val[i][\"context\"]\n",
    "        answer_list = val[i][\"answers\"].get(\"text\")\n",
    "        answer = \"I don't know.\"\n",
    "        if len(answer_list) > 0:\n",
    "            answer = answer_list[0]\n",
    "        \n",
    "        pbar2.update(1)\n",
    "    \n",
    "    # clean up\n",
    "    del model\n",
    "    del tokenizer\n",
    "    del decoder\n",
    "    torch.cuda.empty_cache()\n",
    "    pbar1.update(1)"
   ]
  }
 ],
 "metadata": {
  "kernelspec": {
   "display_name": "Python 3 (ipykernel)",
   "language": "python",
   "name": "python3"
  },
  "language_info": {
   "codemirror_mode": {
    "name": "ipython",
    "version": 3
   },
   "file_extension": ".py",
   "mimetype": "text/x-python",
   "name": "python",
   "nbconvert_exporter": "python",
   "pygments_lexer": "ipython3",
   "version": "3.10.11"
  }
 },
 "nbformat": 4,
 "nbformat_minor": 5
}
