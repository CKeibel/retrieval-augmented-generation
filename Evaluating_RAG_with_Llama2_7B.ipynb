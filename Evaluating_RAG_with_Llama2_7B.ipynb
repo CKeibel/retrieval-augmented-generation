{
  "nbformat": 4,
  "nbformat_minor": 0,
  "metadata": {
    "colab": {
      "provenance": [],
      "gpuType": "T4"
    },
    "kernelspec": {
      "name": "python3",
      "display_name": "Python 3"
    },
    "language_info": {
      "name": "python"
    },
    "accelerator": "GPU",
    "widgets": {
      "application/vnd.jupyter.widget-state+json": {
        "885ad19b735f464ebb64c81c46650ab5": {
          "model_module": "@jupyter-widgets/controls",
          "model_name": "HBoxModel",
          "model_module_version": "1.5.0",
          "state": {
            "_dom_classes": [],
            "_model_module": "@jupyter-widgets/controls",
            "_model_module_version": "1.5.0",
            "_model_name": "HBoxModel",
            "_view_count": null,
            "_view_module": "@jupyter-widgets/controls",
            "_view_module_version": "1.5.0",
            "_view_name": "HBoxView",
            "box_style": "",
            "children": [
              "IPY_MODEL_f0e4399a7e1a4d94a8b87e7727640351",
              "IPY_MODEL_af9f53672a1948f68761d5524ba9b3f9",
              "IPY_MODEL_cc5aab1b910247cd9e2ee2ba5c268601"
            ],
            "layout": "IPY_MODEL_ac42ec5c244345bb99561efc5acb3ef1"
          }
        },
        "f0e4399a7e1a4d94a8b87e7727640351": {
          "model_module": "@jupyter-widgets/controls",
          "model_name": "HTMLModel",
          "model_module_version": "1.5.0",
          "state": {
            "_dom_classes": [],
            "_model_module": "@jupyter-widgets/controls",
            "_model_module_version": "1.5.0",
            "_model_name": "HTMLModel",
            "_view_count": null,
            "_view_module": "@jupyter-widgets/controls",
            "_view_module_version": "1.5.0",
            "_view_name": "HTMLView",
            "description": "",
            "description_tooltip": null,
            "layout": "IPY_MODEL_407db3d9fb6a4a1b8d97f57c0ba02a23",
            "placeholder": "​",
            "style": "IPY_MODEL_72d3288536f84904accb80c4d79924ed",
            "value": "Map: 100%"
          }
        },
        "af9f53672a1948f68761d5524ba9b3f9": {
          "model_module": "@jupyter-widgets/controls",
          "model_name": "FloatProgressModel",
          "model_module_version": "1.5.0",
          "state": {
            "_dom_classes": [],
            "_model_module": "@jupyter-widgets/controls",
            "_model_module_version": "1.5.0",
            "_model_name": "FloatProgressModel",
            "_view_count": null,
            "_view_module": "@jupyter-widgets/controls",
            "_view_module_version": "1.5.0",
            "_view_name": "ProgressView",
            "bar_style": "success",
            "description": "",
            "description_tooltip": null,
            "layout": "IPY_MODEL_729c77ebefc54a48ac6e14ce945a3a15",
            "max": 130319,
            "min": 0,
            "orientation": "horizontal",
            "style": "IPY_MODEL_076e58d8d7fb43b9bdedae4f137fd73a",
            "value": 130319
          }
        },
        "cc5aab1b910247cd9e2ee2ba5c268601": {
          "model_module": "@jupyter-widgets/controls",
          "model_name": "HTMLModel",
          "model_module_version": "1.5.0",
          "state": {
            "_dom_classes": [],
            "_model_module": "@jupyter-widgets/controls",
            "_model_module_version": "1.5.0",
            "_model_name": "HTMLModel",
            "_view_count": null,
            "_view_module": "@jupyter-widgets/controls",
            "_view_module_version": "1.5.0",
            "_view_name": "HTMLView",
            "description": "",
            "description_tooltip": null,
            "layout": "IPY_MODEL_f83d45ea6c2f4e809b5a4f53ba6c681b",
            "placeholder": "​",
            "style": "IPY_MODEL_7bd8fc5f439c4b89a1b1dac6704225ec",
            "value": " 130319/130319 [39:25&lt;00:00, 44.34 examples/s]"
          }
        },
        "ac42ec5c244345bb99561efc5acb3ef1": {
          "model_module": "@jupyter-widgets/base",
          "model_name": "LayoutModel",
          "model_module_version": "1.2.0",
          "state": {
            "_model_module": "@jupyter-widgets/base",
            "_model_module_version": "1.2.0",
            "_model_name": "LayoutModel",
            "_view_count": null,
            "_view_module": "@jupyter-widgets/base",
            "_view_module_version": "1.2.0",
            "_view_name": "LayoutView",
            "align_content": null,
            "align_items": null,
            "align_self": null,
            "border": null,
            "bottom": null,
            "display": null,
            "flex": null,
            "flex_flow": null,
            "grid_area": null,
            "grid_auto_columns": null,
            "grid_auto_flow": null,
            "grid_auto_rows": null,
            "grid_column": null,
            "grid_gap": null,
            "grid_row": null,
            "grid_template_areas": null,
            "grid_template_columns": null,
            "grid_template_rows": null,
            "height": null,
            "justify_content": null,
            "justify_items": null,
            "left": null,
            "margin": null,
            "max_height": null,
            "max_width": null,
            "min_height": null,
            "min_width": null,
            "object_fit": null,
            "object_position": null,
            "order": null,
            "overflow": null,
            "overflow_x": null,
            "overflow_y": null,
            "padding": null,
            "right": null,
            "top": null,
            "visibility": null,
            "width": null
          }
        },
        "407db3d9fb6a4a1b8d97f57c0ba02a23": {
          "model_module": "@jupyter-widgets/base",
          "model_name": "LayoutModel",
          "model_module_version": "1.2.0",
          "state": {
            "_model_module": "@jupyter-widgets/base",
            "_model_module_version": "1.2.0",
            "_model_name": "LayoutModel",
            "_view_count": null,
            "_view_module": "@jupyter-widgets/base",
            "_view_module_version": "1.2.0",
            "_view_name": "LayoutView",
            "align_content": null,
            "align_items": null,
            "align_self": null,
            "border": null,
            "bottom": null,
            "display": null,
            "flex": null,
            "flex_flow": null,
            "grid_area": null,
            "grid_auto_columns": null,
            "grid_auto_flow": null,
            "grid_auto_rows": null,
            "grid_column": null,
            "grid_gap": null,
            "grid_row": null,
            "grid_template_areas": null,
            "grid_template_columns": null,
            "grid_template_rows": null,
            "height": null,
            "justify_content": null,
            "justify_items": null,
            "left": null,
            "margin": null,
            "max_height": null,
            "max_width": null,
            "min_height": null,
            "min_width": null,
            "object_fit": null,
            "object_position": null,
            "order": null,
            "overflow": null,
            "overflow_x": null,
            "overflow_y": null,
            "padding": null,
            "right": null,
            "top": null,
            "visibility": null,
            "width": null
          }
        },
        "72d3288536f84904accb80c4d79924ed": {
          "model_module": "@jupyter-widgets/controls",
          "model_name": "DescriptionStyleModel",
          "model_module_version": "1.5.0",
          "state": {
            "_model_module": "@jupyter-widgets/controls",
            "_model_module_version": "1.5.0",
            "_model_name": "DescriptionStyleModel",
            "_view_count": null,
            "_view_module": "@jupyter-widgets/base",
            "_view_module_version": "1.2.0",
            "_view_name": "StyleView",
            "description_width": ""
          }
        },
        "729c77ebefc54a48ac6e14ce945a3a15": {
          "model_module": "@jupyter-widgets/base",
          "model_name": "LayoutModel",
          "model_module_version": "1.2.0",
          "state": {
            "_model_module": "@jupyter-widgets/base",
            "_model_module_version": "1.2.0",
            "_model_name": "LayoutModel",
            "_view_count": null,
            "_view_module": "@jupyter-widgets/base",
            "_view_module_version": "1.2.0",
            "_view_name": "LayoutView",
            "align_content": null,
            "align_items": null,
            "align_self": null,
            "border": null,
            "bottom": null,
            "display": null,
            "flex": null,
            "flex_flow": null,
            "grid_area": null,
            "grid_auto_columns": null,
            "grid_auto_flow": null,
            "grid_auto_rows": null,
            "grid_column": null,
            "grid_gap": null,
            "grid_row": null,
            "grid_template_areas": null,
            "grid_template_columns": null,
            "grid_template_rows": null,
            "height": null,
            "justify_content": null,
            "justify_items": null,
            "left": null,
            "margin": null,
            "max_height": null,
            "max_width": null,
            "min_height": null,
            "min_width": null,
            "object_fit": null,
            "object_position": null,
            "order": null,
            "overflow": null,
            "overflow_x": null,
            "overflow_y": null,
            "padding": null,
            "right": null,
            "top": null,
            "visibility": null,
            "width": null
          }
        },
        "076e58d8d7fb43b9bdedae4f137fd73a": {
          "model_module": "@jupyter-widgets/controls",
          "model_name": "ProgressStyleModel",
          "model_module_version": "1.5.0",
          "state": {
            "_model_module": "@jupyter-widgets/controls",
            "_model_module_version": "1.5.0",
            "_model_name": "ProgressStyleModel",
            "_view_count": null,
            "_view_module": "@jupyter-widgets/base",
            "_view_module_version": "1.2.0",
            "_view_name": "StyleView",
            "bar_color": null,
            "description_width": ""
          }
        },
        "f83d45ea6c2f4e809b5a4f53ba6c681b": {
          "model_module": "@jupyter-widgets/base",
          "model_name": "LayoutModel",
          "model_module_version": "1.2.0",
          "state": {
            "_model_module": "@jupyter-widgets/base",
            "_model_module_version": "1.2.0",
            "_model_name": "LayoutModel",
            "_view_count": null,
            "_view_module": "@jupyter-widgets/base",
            "_view_module_version": "1.2.0",
            "_view_name": "LayoutView",
            "align_content": null,
            "align_items": null,
            "align_self": null,
            "border": null,
            "bottom": null,
            "display": null,
            "flex": null,
            "flex_flow": null,
            "grid_area": null,
            "grid_auto_columns": null,
            "grid_auto_flow": null,
            "grid_auto_rows": null,
            "grid_column": null,
            "grid_gap": null,
            "grid_row": null,
            "grid_template_areas": null,
            "grid_template_columns": null,
            "grid_template_rows": null,
            "height": null,
            "justify_content": null,
            "justify_items": null,
            "left": null,
            "margin": null,
            "max_height": null,
            "max_width": null,
            "min_height": null,
            "min_width": null,
            "object_fit": null,
            "object_position": null,
            "order": null,
            "overflow": null,
            "overflow_x": null,
            "overflow_y": null,
            "padding": null,
            "right": null,
            "top": null,
            "visibility": null,
            "width": null
          }
        },
        "7bd8fc5f439c4b89a1b1dac6704225ec": {
          "model_module": "@jupyter-widgets/controls",
          "model_name": "DescriptionStyleModel",
          "model_module_version": "1.5.0",
          "state": {
            "_model_module": "@jupyter-widgets/controls",
            "_model_module_version": "1.5.0",
            "_model_name": "DescriptionStyleModel",
            "_view_count": null,
            "_view_module": "@jupyter-widgets/base",
            "_view_module_version": "1.2.0",
            "_view_name": "StyleView",
            "description_width": ""
          }
        },
        "214585c71a604a1db019c595cf931682": {
          "model_module": "@jupyter-widgets/controls",
          "model_name": "HBoxModel",
          "model_module_version": "1.5.0",
          "state": {
            "_dom_classes": [],
            "_model_module": "@jupyter-widgets/controls",
            "_model_module_version": "1.5.0",
            "_model_name": "HBoxModel",
            "_view_count": null,
            "_view_module": "@jupyter-widgets/controls",
            "_view_module_version": "1.5.0",
            "_view_name": "HBoxView",
            "box_style": "",
            "children": [
              "IPY_MODEL_32bacdbe70a142f58d5e577ca533e198",
              "IPY_MODEL_5fe55a4ed0144855876389a9b66ffdbe",
              "IPY_MODEL_80cfbefcf1c14aa999c7f58d0cee144d"
            ],
            "layout": "IPY_MODEL_b9cc48ff457c438fb0800cfa6f0b69dc"
          }
        },
        "32bacdbe70a142f58d5e577ca533e198": {
          "model_module": "@jupyter-widgets/controls",
          "model_name": "HTMLModel",
          "model_module_version": "1.5.0",
          "state": {
            "_dom_classes": [],
            "_model_module": "@jupyter-widgets/controls",
            "_model_module_version": "1.5.0",
            "_model_name": "HTMLModel",
            "_view_count": null,
            "_view_module": "@jupyter-widgets/controls",
            "_view_module_version": "1.5.0",
            "_view_name": "HTMLView",
            "description": "",
            "description_tooltip": null,
            "layout": "IPY_MODEL_edf4907514d84b9a93a8d89ebff33bfc",
            "placeholder": "​",
            "style": "IPY_MODEL_26271b9d872145728805e072935c23a8",
            "value": "Loading checkpoint shards: 100%"
          }
        },
        "5fe55a4ed0144855876389a9b66ffdbe": {
          "model_module": "@jupyter-widgets/controls",
          "model_name": "FloatProgressModel",
          "model_module_version": "1.5.0",
          "state": {
            "_dom_classes": [],
            "_model_module": "@jupyter-widgets/controls",
            "_model_module_version": "1.5.0",
            "_model_name": "FloatProgressModel",
            "_view_count": null,
            "_view_module": "@jupyter-widgets/controls",
            "_view_module_version": "1.5.0",
            "_view_name": "ProgressView",
            "bar_style": "success",
            "description": "",
            "description_tooltip": null,
            "layout": "IPY_MODEL_a1dac65469284b77b7743e02538b494f",
            "max": 2,
            "min": 0,
            "orientation": "horizontal",
            "style": "IPY_MODEL_0aa39eb36a454bc8b13713149d0532d0",
            "value": 2
          }
        },
        "80cfbefcf1c14aa999c7f58d0cee144d": {
          "model_module": "@jupyter-widgets/controls",
          "model_name": "HTMLModel",
          "model_module_version": "1.5.0",
          "state": {
            "_dom_classes": [],
            "_model_module": "@jupyter-widgets/controls",
            "_model_module_version": "1.5.0",
            "_model_name": "HTMLModel",
            "_view_count": null,
            "_view_module": "@jupyter-widgets/controls",
            "_view_module_version": "1.5.0",
            "_view_name": "HTMLView",
            "description": "",
            "description_tooltip": null,
            "layout": "IPY_MODEL_0f6a5a2cbe8f45bda61dd472b6417576",
            "placeholder": "​",
            "style": "IPY_MODEL_a4ded8e77b7449d9bbfca6914c91f3aa",
            "value": " 2/2 [01:08&lt;00:00, 31.36s/it]"
          }
        },
        "b9cc48ff457c438fb0800cfa6f0b69dc": {
          "model_module": "@jupyter-widgets/base",
          "model_name": "LayoutModel",
          "model_module_version": "1.2.0",
          "state": {
            "_model_module": "@jupyter-widgets/base",
            "_model_module_version": "1.2.0",
            "_model_name": "LayoutModel",
            "_view_count": null,
            "_view_module": "@jupyter-widgets/base",
            "_view_module_version": "1.2.0",
            "_view_name": "LayoutView",
            "align_content": null,
            "align_items": null,
            "align_self": null,
            "border": null,
            "bottom": null,
            "display": null,
            "flex": null,
            "flex_flow": null,
            "grid_area": null,
            "grid_auto_columns": null,
            "grid_auto_flow": null,
            "grid_auto_rows": null,
            "grid_column": null,
            "grid_gap": null,
            "grid_row": null,
            "grid_template_areas": null,
            "grid_template_columns": null,
            "grid_template_rows": null,
            "height": null,
            "justify_content": null,
            "justify_items": null,
            "left": null,
            "margin": null,
            "max_height": null,
            "max_width": null,
            "min_height": null,
            "min_width": null,
            "object_fit": null,
            "object_position": null,
            "order": null,
            "overflow": null,
            "overflow_x": null,
            "overflow_y": null,
            "padding": null,
            "right": null,
            "top": null,
            "visibility": null,
            "width": null
          }
        },
        "edf4907514d84b9a93a8d89ebff33bfc": {
          "model_module": "@jupyter-widgets/base",
          "model_name": "LayoutModel",
          "model_module_version": "1.2.0",
          "state": {
            "_model_module": "@jupyter-widgets/base",
            "_model_module_version": "1.2.0",
            "_model_name": "LayoutModel",
            "_view_count": null,
            "_view_module": "@jupyter-widgets/base",
            "_view_module_version": "1.2.0",
            "_view_name": "LayoutView",
            "align_content": null,
            "align_items": null,
            "align_self": null,
            "border": null,
            "bottom": null,
            "display": null,
            "flex": null,
            "flex_flow": null,
            "grid_area": null,
            "grid_auto_columns": null,
            "grid_auto_flow": null,
            "grid_auto_rows": null,
            "grid_column": null,
            "grid_gap": null,
            "grid_row": null,
            "grid_template_areas": null,
            "grid_template_columns": null,
            "grid_template_rows": null,
            "height": null,
            "justify_content": null,
            "justify_items": null,
            "left": null,
            "margin": null,
            "max_height": null,
            "max_width": null,
            "min_height": null,
            "min_width": null,
            "object_fit": null,
            "object_position": null,
            "order": null,
            "overflow": null,
            "overflow_x": null,
            "overflow_y": null,
            "padding": null,
            "right": null,
            "top": null,
            "visibility": null,
            "width": null
          }
        },
        "26271b9d872145728805e072935c23a8": {
          "model_module": "@jupyter-widgets/controls",
          "model_name": "DescriptionStyleModel",
          "model_module_version": "1.5.0",
          "state": {
            "_model_module": "@jupyter-widgets/controls",
            "_model_module_version": "1.5.0",
            "_model_name": "DescriptionStyleModel",
            "_view_count": null,
            "_view_module": "@jupyter-widgets/base",
            "_view_module_version": "1.2.0",
            "_view_name": "StyleView",
            "description_width": ""
          }
        },
        "a1dac65469284b77b7743e02538b494f": {
          "model_module": "@jupyter-widgets/base",
          "model_name": "LayoutModel",
          "model_module_version": "1.2.0",
          "state": {
            "_model_module": "@jupyter-widgets/base",
            "_model_module_version": "1.2.0",
            "_model_name": "LayoutModel",
            "_view_count": null,
            "_view_module": "@jupyter-widgets/base",
            "_view_module_version": "1.2.0",
            "_view_name": "LayoutView",
            "align_content": null,
            "align_items": null,
            "align_self": null,
            "border": null,
            "bottom": null,
            "display": null,
            "flex": null,
            "flex_flow": null,
            "grid_area": null,
            "grid_auto_columns": null,
            "grid_auto_flow": null,
            "grid_auto_rows": null,
            "grid_column": null,
            "grid_gap": null,
            "grid_row": null,
            "grid_template_areas": null,
            "grid_template_columns": null,
            "grid_template_rows": null,
            "height": null,
            "justify_content": null,
            "justify_items": null,
            "left": null,
            "margin": null,
            "max_height": null,
            "max_width": null,
            "min_height": null,
            "min_width": null,
            "object_fit": null,
            "object_position": null,
            "order": null,
            "overflow": null,
            "overflow_x": null,
            "overflow_y": null,
            "padding": null,
            "right": null,
            "top": null,
            "visibility": null,
            "width": null
          }
        },
        "0aa39eb36a454bc8b13713149d0532d0": {
          "model_module": "@jupyter-widgets/controls",
          "model_name": "ProgressStyleModel",
          "model_module_version": "1.5.0",
          "state": {
            "_model_module": "@jupyter-widgets/controls",
            "_model_module_version": "1.5.0",
            "_model_name": "ProgressStyleModel",
            "_view_count": null,
            "_view_module": "@jupyter-widgets/base",
            "_view_module_version": "1.2.0",
            "_view_name": "StyleView",
            "bar_color": null,
            "description_width": ""
          }
        },
        "0f6a5a2cbe8f45bda61dd472b6417576": {
          "model_module": "@jupyter-widgets/base",
          "model_name": "LayoutModel",
          "model_module_version": "1.2.0",
          "state": {
            "_model_module": "@jupyter-widgets/base",
            "_model_module_version": "1.2.0",
            "_model_name": "LayoutModel",
            "_view_count": null,
            "_view_module": "@jupyter-widgets/base",
            "_view_module_version": "1.2.0",
            "_view_name": "LayoutView",
            "align_content": null,
            "align_items": null,
            "align_self": null,
            "border": null,
            "bottom": null,
            "display": null,
            "flex": null,
            "flex_flow": null,
            "grid_area": null,
            "grid_auto_columns": null,
            "grid_auto_flow": null,
            "grid_auto_rows": null,
            "grid_column": null,
            "grid_gap": null,
            "grid_row": null,
            "grid_template_areas": null,
            "grid_template_columns": null,
            "grid_template_rows": null,
            "height": null,
            "justify_content": null,
            "justify_items": null,
            "left": null,
            "margin": null,
            "max_height": null,
            "max_width": null,
            "min_height": null,
            "min_width": null,
            "object_fit": null,
            "object_position": null,
            "order": null,
            "overflow": null,
            "overflow_x": null,
            "overflow_y": null,
            "padding": null,
            "right": null,
            "top": null,
            "visibility": null,
            "width": null
          }
        },
        "a4ded8e77b7449d9bbfca6914c91f3aa": {
          "model_module": "@jupyter-widgets/controls",
          "model_name": "DescriptionStyleModel",
          "model_module_version": "1.5.0",
          "state": {
            "_model_module": "@jupyter-widgets/controls",
            "_model_module_version": "1.5.0",
            "_model_name": "DescriptionStyleModel",
            "_view_count": null,
            "_view_module": "@jupyter-widgets/base",
            "_view_module_version": "1.2.0",
            "_view_name": "StyleView",
            "description_width": ""
          }
        },
        "41990c5fa80b4f178ddc1d9ec9d832d6": {
          "model_module": "@jupyter-widgets/controls",
          "model_name": "HBoxModel",
          "model_module_version": "1.5.0",
          "state": {
            "_dom_classes": [],
            "_model_module": "@jupyter-widgets/controls",
            "_model_module_version": "1.5.0",
            "_model_name": "HBoxModel",
            "_view_count": null,
            "_view_module": "@jupyter-widgets/controls",
            "_view_module_version": "1.5.0",
            "_view_name": "HBoxView",
            "box_style": "",
            "children": [
              "IPY_MODEL_2b31fc758c0645009371a2af0a2f4651",
              "IPY_MODEL_3a1a6ea9a6b14ac0bcd419f94150532e",
              "IPY_MODEL_eacba452b520468bb2a9d2219e2a65d2"
            ],
            "layout": "IPY_MODEL_31aa3ab09fe04a0298b9acf9415bed7d"
          }
        },
        "2b31fc758c0645009371a2af0a2f4651": {
          "model_module": "@jupyter-widgets/controls",
          "model_name": "HTMLModel",
          "model_module_version": "1.5.0",
          "state": {
            "_dom_classes": [],
            "_model_module": "@jupyter-widgets/controls",
            "_model_module_version": "1.5.0",
            "_model_name": "HTMLModel",
            "_view_count": null,
            "_view_module": "@jupyter-widgets/controls",
            "_view_module_version": "1.5.0",
            "_view_name": "HTMLView",
            "description": "",
            "description_tooltip": null,
            "layout": "IPY_MODEL_7030f72931014cb8950750bd6fc97a33",
            "placeholder": "​",
            "style": "IPY_MODEL_8445d519a99a47be8c3421efa8357f3b",
            "value": "100%"
          }
        },
        "3a1a6ea9a6b14ac0bcd419f94150532e": {
          "model_module": "@jupyter-widgets/controls",
          "model_name": "FloatProgressModel",
          "model_module_version": "1.5.0",
          "state": {
            "_dom_classes": [],
            "_model_module": "@jupyter-widgets/controls",
            "_model_module_version": "1.5.0",
            "_model_name": "FloatProgressModel",
            "_view_count": null,
            "_view_module": "@jupyter-widgets/controls",
            "_view_module_version": "1.5.0",
            "_view_name": "ProgressView",
            "bar_style": "success",
            "description": "",
            "description_tooltip": null,
            "layout": "IPY_MODEL_116618d575064d268974995f99ee6f0f",
            "max": 131,
            "min": 0,
            "orientation": "horizontal",
            "style": "IPY_MODEL_1c7a6be7ee9548f6953c54d77d047ed8",
            "value": 131
          }
        },
        "eacba452b520468bb2a9d2219e2a65d2": {
          "model_module": "@jupyter-widgets/controls",
          "model_name": "HTMLModel",
          "model_module_version": "1.5.0",
          "state": {
            "_dom_classes": [],
            "_model_module": "@jupyter-widgets/controls",
            "_model_module_version": "1.5.0",
            "_model_name": "HTMLModel",
            "_view_count": null,
            "_view_module": "@jupyter-widgets/controls",
            "_view_module_version": "1.5.0",
            "_view_name": "HTMLView",
            "description": "",
            "description_tooltip": null,
            "layout": "IPY_MODEL_67bc0a0f527943debce4f8707a3aab0f",
            "placeholder": "​",
            "style": "IPY_MODEL_c720596edc8e475c9385277cbbb12627",
            "value": " 131/131 [00:04&lt;00:00, 20.01it/s]"
          }
        },
        "31aa3ab09fe04a0298b9acf9415bed7d": {
          "model_module": "@jupyter-widgets/base",
          "model_name": "LayoutModel",
          "model_module_version": "1.2.0",
          "state": {
            "_model_module": "@jupyter-widgets/base",
            "_model_module_version": "1.2.0",
            "_model_name": "LayoutModel",
            "_view_count": null,
            "_view_module": "@jupyter-widgets/base",
            "_view_module_version": "1.2.0",
            "_view_name": "LayoutView",
            "align_content": null,
            "align_items": null,
            "align_self": null,
            "border": null,
            "bottom": null,
            "display": null,
            "flex": null,
            "flex_flow": null,
            "grid_area": null,
            "grid_auto_columns": null,
            "grid_auto_flow": null,
            "grid_auto_rows": null,
            "grid_column": null,
            "grid_gap": null,
            "grid_row": null,
            "grid_template_areas": null,
            "grid_template_columns": null,
            "grid_template_rows": null,
            "height": null,
            "justify_content": null,
            "justify_items": null,
            "left": null,
            "margin": null,
            "max_height": null,
            "max_width": null,
            "min_height": null,
            "min_width": null,
            "object_fit": null,
            "object_position": null,
            "order": null,
            "overflow": null,
            "overflow_x": null,
            "overflow_y": null,
            "padding": null,
            "right": null,
            "top": null,
            "visibility": null,
            "width": null
          }
        },
        "7030f72931014cb8950750bd6fc97a33": {
          "model_module": "@jupyter-widgets/base",
          "model_name": "LayoutModel",
          "model_module_version": "1.2.0",
          "state": {
            "_model_module": "@jupyter-widgets/base",
            "_model_module_version": "1.2.0",
            "_model_name": "LayoutModel",
            "_view_count": null,
            "_view_module": "@jupyter-widgets/base",
            "_view_module_version": "1.2.0",
            "_view_name": "LayoutView",
            "align_content": null,
            "align_items": null,
            "align_self": null,
            "border": null,
            "bottom": null,
            "display": null,
            "flex": null,
            "flex_flow": null,
            "grid_area": null,
            "grid_auto_columns": null,
            "grid_auto_flow": null,
            "grid_auto_rows": null,
            "grid_column": null,
            "grid_gap": null,
            "grid_row": null,
            "grid_template_areas": null,
            "grid_template_columns": null,
            "grid_template_rows": null,
            "height": null,
            "justify_content": null,
            "justify_items": null,
            "left": null,
            "margin": null,
            "max_height": null,
            "max_width": null,
            "min_height": null,
            "min_width": null,
            "object_fit": null,
            "object_position": null,
            "order": null,
            "overflow": null,
            "overflow_x": null,
            "overflow_y": null,
            "padding": null,
            "right": null,
            "top": null,
            "visibility": null,
            "width": null
          }
        },
        "8445d519a99a47be8c3421efa8357f3b": {
          "model_module": "@jupyter-widgets/controls",
          "model_name": "DescriptionStyleModel",
          "model_module_version": "1.5.0",
          "state": {
            "_model_module": "@jupyter-widgets/controls",
            "_model_module_version": "1.5.0",
            "_model_name": "DescriptionStyleModel",
            "_view_count": null,
            "_view_module": "@jupyter-widgets/base",
            "_view_module_version": "1.2.0",
            "_view_name": "StyleView",
            "description_width": ""
          }
        },
        "116618d575064d268974995f99ee6f0f": {
          "model_module": "@jupyter-widgets/base",
          "model_name": "LayoutModel",
          "model_module_version": "1.2.0",
          "state": {
            "_model_module": "@jupyter-widgets/base",
            "_model_module_version": "1.2.0",
            "_model_name": "LayoutModel",
            "_view_count": null,
            "_view_module": "@jupyter-widgets/base",
            "_view_module_version": "1.2.0",
            "_view_name": "LayoutView",
            "align_content": null,
            "align_items": null,
            "align_self": null,
            "border": null,
            "bottom": null,
            "display": null,
            "flex": null,
            "flex_flow": null,
            "grid_area": null,
            "grid_auto_columns": null,
            "grid_auto_flow": null,
            "grid_auto_rows": null,
            "grid_column": null,
            "grid_gap": null,
            "grid_row": null,
            "grid_template_areas": null,
            "grid_template_columns": null,
            "grid_template_rows": null,
            "height": null,
            "justify_content": null,
            "justify_items": null,
            "left": null,
            "margin": null,
            "max_height": null,
            "max_width": null,
            "min_height": null,
            "min_width": null,
            "object_fit": null,
            "object_position": null,
            "order": null,
            "overflow": null,
            "overflow_x": null,
            "overflow_y": null,
            "padding": null,
            "right": null,
            "top": null,
            "visibility": null,
            "width": null
          }
        },
        "1c7a6be7ee9548f6953c54d77d047ed8": {
          "model_module": "@jupyter-widgets/controls",
          "model_name": "ProgressStyleModel",
          "model_module_version": "1.5.0",
          "state": {
            "_model_module": "@jupyter-widgets/controls",
            "_model_module_version": "1.5.0",
            "_model_name": "ProgressStyleModel",
            "_view_count": null,
            "_view_module": "@jupyter-widgets/base",
            "_view_module_version": "1.2.0",
            "_view_name": "StyleView",
            "bar_color": null,
            "description_width": ""
          }
        },
        "67bc0a0f527943debce4f8707a3aab0f": {
          "model_module": "@jupyter-widgets/base",
          "model_name": "LayoutModel",
          "model_module_version": "1.2.0",
          "state": {
            "_model_module": "@jupyter-widgets/base",
            "_model_module_version": "1.2.0",
            "_model_name": "LayoutModel",
            "_view_count": null,
            "_view_module": "@jupyter-widgets/base",
            "_view_module_version": "1.2.0",
            "_view_name": "LayoutView",
            "align_content": null,
            "align_items": null,
            "align_self": null,
            "border": null,
            "bottom": null,
            "display": null,
            "flex": null,
            "flex_flow": null,
            "grid_area": null,
            "grid_auto_columns": null,
            "grid_auto_flow": null,
            "grid_auto_rows": null,
            "grid_column": null,
            "grid_gap": null,
            "grid_row": null,
            "grid_template_areas": null,
            "grid_template_columns": null,
            "grid_template_rows": null,
            "height": null,
            "justify_content": null,
            "justify_items": null,
            "left": null,
            "margin": null,
            "max_height": null,
            "max_width": null,
            "min_height": null,
            "min_width": null,
            "object_fit": null,
            "object_position": null,
            "order": null,
            "overflow": null,
            "overflow_x": null,
            "overflow_y": null,
            "padding": null,
            "right": null,
            "top": null,
            "visibility": null,
            "width": null
          }
        },
        "c720596edc8e475c9385277cbbb12627": {
          "model_module": "@jupyter-widgets/controls",
          "model_name": "DescriptionStyleModel",
          "model_module_version": "1.5.0",
          "state": {
            "_model_module": "@jupyter-widgets/controls",
            "_model_module_version": "1.5.0",
            "_model_name": "DescriptionStyleModel",
            "_view_count": null,
            "_view_module": "@jupyter-widgets/base",
            "_view_module_version": "1.2.0",
            "_view_name": "StyleView",
            "description_width": ""
          }
        }
      }
    }
  },
  "cells": [
    {
      "cell_type": "markdown",
      "source": [
        "# Evaluating-RAG-with-Llama2-7B"
      ],
      "metadata": {
        "id": "H0zg06MZqiu9"
      }
    },
    {
      "cell_type": "code",
      "execution_count": null,
      "metadata": {
        "id": "OXCN-QSLqLrS"
      },
      "outputs": [],
      "source": [
        "!pip install transformers datasets langchain bitsandbytes python-dotenv accelerate datasets faiss-gpu"
      ]
    },
    {
      "cell_type": "code",
      "source": [
        "!nvidia-smi"
      ],
      "metadata": {
        "colab": {
          "base_uri": "https://localhost:8080/"
        },
        "id": "P-bCVvGJrGZY",
        "outputId": "0172b7a4-f2b6-48e7-fec3-209c25599a1b"
      },
      "execution_count": 2,
      "outputs": [
        {
          "output_type": "stream",
          "name": "stdout",
          "text": [
            "Sat Nov  4 15:21:22 2023       \n",
            "+-----------------------------------------------------------------------------+\n",
            "| NVIDIA-SMI 525.105.17   Driver Version: 525.105.17   CUDA Version: 12.0     |\n",
            "|-------------------------------+----------------------+----------------------+\n",
            "| GPU  Name        Persistence-M| Bus-Id        Disp.A | Volatile Uncorr. ECC |\n",
            "| Fan  Temp  Perf  Pwr:Usage/Cap|         Memory-Usage | GPU-Util  Compute M. |\n",
            "|                               |                      |               MIG M. |\n",
            "|===============================+======================+======================|\n",
            "|   0  Tesla T4            Off  | 00000000:00:04.0 Off |                    0 |\n",
            "| N/A   49C    P8    10W /  70W |      0MiB / 15360MiB |      0%      Default |\n",
            "|                               |                      |                  N/A |\n",
            "+-------------------------------+----------------------+----------------------+\n",
            "                                                                               \n",
            "+-----------------------------------------------------------------------------+\n",
            "| Processes:                                                                  |\n",
            "|  GPU   GI   CI        PID   Type   Process name                  GPU Memory |\n",
            "|        ID   ID                                                   Usage      |\n",
            "|=============================================================================|\n",
            "|  No running processes found                                                 |\n",
            "+-----------------------------------------------------------------------------+\n"
          ]
        }
      ]
    },
    {
      "cell_type": "markdown",
      "source": [
        "# Init Retriever/ Embedding model and process dataset"
      ],
      "metadata": {
        "id": "A7m0_ZIiACW1"
      }
    },
    {
      "cell_type": "code",
      "source": [
        "from transformers import AutoTokenizer, AutoModel, AutoModelForQuestionAnswering, Pipeline, pipeline\n",
        "import torch\n",
        "import torch.nn.functional as F\n",
        "from datasets import load_dataset"
      ],
      "metadata": {
        "id": "DJ7TD3worXB-"
      },
      "execution_count": 2,
      "outputs": []
    },
    {
      "cell_type": "code",
      "source": [
        "device = \"cuda:0\" if torch.cuda.is_available() else \"cpu\"\n",
        "device"
      ],
      "metadata": {
        "colab": {
          "base_uri": "https://localhost:8080/",
          "height": 36
        },
        "id": "APOzODJ4rIHR",
        "outputId": "182d6d2b-fe31-449a-844a-ef0f7b10e68d"
      },
      "execution_count": 3,
      "outputs": [
        {
          "output_type": "execute_result",
          "data": {
            "text/plain": [
              "'cuda:0'"
            ],
            "application/vnd.google.colaboratory.intrinsic+json": {
              "type": "string"
            }
          },
          "metadata": {},
          "execution_count": 3
        }
      ]
    },
    {
      "cell_type": "markdown",
      "source": [
        "## Retriever model"
      ],
      "metadata": {
        "id": "cn_UlqRuALUO"
      }
    },
    {
      "cell_type": "code",
      "source": [
        "# Load model from HuggingFace Hub\n",
        "retriever_id = \"sentence-transformers/all-mpnet-base-v2\"\n",
        "tokenizer = AutoTokenizer.from_pretrained(retriever_id)\n",
        "model = AutoModel.from_pretrained(retriever_id)\n",
        "\n",
        "\n",
        "#Mean Pooling - Take attention mask into account for correct averaging\n",
        "def mean_pooling(model_output, attention_mask):\n",
        "    token_embeddings = model_output[0] #First element of model_output contains all token embeddings\n",
        "    input_mask_expanded = attention_mask.unsqueeze(-1).expand(token_embeddings.size()).float()\n",
        "    return torch.sum(token_embeddings * input_mask_expanded, 1) / torch.clamp(input_mask_expanded.sum(1), min=1e-9)\n",
        "\n",
        "\n",
        "class EmbeddingPipeline(Pipeline):\n",
        "    def _sanitize_parameters(self, **kwargs):\n",
        "        preprocess_kwargs = {}\n",
        "        return preprocess_kwargs, {}, {}\n",
        "\n",
        "\n",
        "    def preprocess(self, text):\n",
        "        encoded_text = self.tokenizer(text, padding=True, truncation=True, return_tensors='pt')\n",
        "        return encoded_text\n",
        "\n",
        "\n",
        "    def _forward(self, model_inputs):\n",
        "        outputs = self.model(**model_inputs)\n",
        "        return {\"outputs\": outputs, \"attention_mask\": model_inputs[\"attention_mask\"]}\n",
        "\n",
        "\n",
        "    def postprocess(self, model_outputs):\n",
        "        sentence_embeddings = mean_pooling(model_outputs[\"outputs\"], model_outputs['attention_mask'])\n",
        "        sentence_embeddings = F.normalize(sentence_embeddings, p=2, dim=1)\n",
        "        return sentence_embeddings[0].numpy()\n",
        "\n",
        "retriever = EmbeddingPipeline(model=model, tokenizer=tokenizer, device=device)"
      ],
      "metadata": {
        "id": "H2fbRLMlrog1"
      },
      "execution_count": 4,
      "outputs": []
    },
    {
      "cell_type": "markdown",
      "source": [
        "## Dataset"
      ],
      "metadata": {
        "id": "aKw7MriaAPOO"
      }
    },
    {
      "cell_type": "code",
      "source": [
        "ds = load_dataset(\"squad_v2\")\n",
        "ds"
      ],
      "metadata": {
        "colab": {
          "base_uri": "https://localhost:8080/"
        },
        "id": "nlufkiSyr7G_",
        "outputId": "273ea6fd-a8be-4347-c6a1-0473338d7c9b"
      },
      "execution_count": 5,
      "outputs": [
        {
          "output_type": "execute_result",
          "data": {
            "text/plain": [
              "DatasetDict({\n",
              "    train: Dataset({\n",
              "        features: ['id', 'title', 'context', 'question', 'answers'],\n",
              "        num_rows: 130319\n",
              "    })\n",
              "    validation: Dataset({\n",
              "        features: ['id', 'title', 'context', 'question', 'answers'],\n",
              "        num_rows: 11873\n",
              "    })\n",
              "})"
            ]
          },
          "metadata": {},
          "execution_count": 5
        }
      ]
    },
    {
      "cell_type": "code",
      "source": [
        "ds_train = ds[\"train\"]\n",
        "ds_test = ds[\"validation\"]\n",
        "\n",
        "ds_train, ds_test"
      ],
      "metadata": {
        "colab": {
          "base_uri": "https://localhost:8080/"
        },
        "id": "lguphvbpr9lu",
        "outputId": "c117e339-7e23-4db5-e9c0-8b71ec22acb1"
      },
      "execution_count": 13,
      "outputs": [
        {
          "output_type": "execute_result",
          "data": {
            "text/plain": [
              "(Dataset({\n",
              "     features: ['id', 'title', 'context', 'question', 'answers'],\n",
              "     num_rows: 130319\n",
              " }),\n",
              " Dataset({\n",
              "     features: ['id', 'title', 'context', 'question', 'answers'],\n",
              "     num_rows: 11873\n",
              " }))"
            ]
          },
          "metadata": {},
          "execution_count": 13
        }
      ]
    },
    {
      "cell_type": "code",
      "source": [
        "ds_train = ds_train.map(lambda row: {\"context_embedding\": retriever(row[\"context\"])})\n",
        "ds_train"
      ],
      "metadata": {
        "colab": {
          "base_uri": "https://localhost:8080/",
          "height": 179,
          "referenced_widgets": [
            "885ad19b735f464ebb64c81c46650ab5",
            "f0e4399a7e1a4d94a8b87e7727640351",
            "af9f53672a1948f68761d5524ba9b3f9",
            "cc5aab1b910247cd9e2ee2ba5c268601",
            "ac42ec5c244345bb99561efc5acb3ef1",
            "407db3d9fb6a4a1b8d97f57c0ba02a23",
            "72d3288536f84904accb80c4d79924ed",
            "729c77ebefc54a48ac6e14ce945a3a15",
            "076e58d8d7fb43b9bdedae4f137fd73a",
            "f83d45ea6c2f4e809b5a4f53ba6c681b",
            "7bd8fc5f439c4b89a1b1dac6704225ec"
          ]
        },
        "id": "YASZmqsvstx9",
        "outputId": "28d6f0a3-24df-4176-a052-88f01bb78b36"
      },
      "execution_count": 15,
      "outputs": [
        {
          "output_type": "display_data",
          "data": {
            "text/plain": [
              "Map:   0%|          | 0/130319 [00:00<?, ? examples/s]"
            ],
            "application/vnd.jupyter.widget-view+json": {
              "version_major": 2,
              "version_minor": 0,
              "model_id": "885ad19b735f464ebb64c81c46650ab5"
            }
          },
          "metadata": {}
        },
        {
          "output_type": "stream",
          "name": "stderr",
          "text": [
            "/usr/local/lib/python3.10/dist-packages/transformers/pipelines/base.py:1101: UserWarning: You seem to be using the pipelines sequentially on GPU. In order to maximize efficiency please use a dataset\n",
            "  warnings.warn(\n"
          ]
        },
        {
          "output_type": "execute_result",
          "data": {
            "text/plain": [
              "Dataset({\n",
              "    features: ['id', 'title', 'context', 'question', 'answers', 'context_embedding'],\n",
              "    num_rows: 130319\n",
              "})"
            ]
          },
          "metadata": {},
          "execution_count": 15
        }
      ]
    },
    {
      "cell_type": "code",
      "source": [
        "from google.colab import drive\n",
        "drive.mount(\"/content/drive\")\n",
        "\n",
        "save_path = \"/content/drive/MyDrive/squadv2\"\n",
        "#ds_train.save_to_disk(save_path)\n",
        "\n",
        "from datasets import Dataset\n",
        "ds_train = Dataset.load_from_disk(save_path)\n",
        "ds_train"
      ],
      "metadata": {
        "colab": {
          "base_uri": "https://localhost:8080/"
        },
        "id": "v2R7d1eLtiad",
        "outputId": "6f4b907f-62b5-4ac0-894f-ee1824473efa"
      },
      "execution_count": 6,
      "outputs": [
        {
          "output_type": "stream",
          "name": "stdout",
          "text": [
            "Drive already mounted at /content/drive; to attempt to forcibly remount, call drive.mount(\"/content/drive\", force_remount=True).\n"
          ]
        },
        {
          "output_type": "execute_result",
          "data": {
            "text/plain": [
              "Dataset({\n",
              "    features: ['id', 'title', 'context', 'question', 'answers', 'context_embedding'],\n",
              "    num_rows: 130319\n",
              "})"
            ]
          },
          "metadata": {},
          "execution_count": 6
        }
      ]
    },
    {
      "cell_type": "markdown",
      "source": [
        "# Load LLama 2 7b"
      ],
      "metadata": {
        "id": "gCVx-RYHASs0"
      }
    },
    {
      "cell_type": "code",
      "source": [
        "from torch import cuda, bfloat16\n",
        "from transformers import BitsAndBytesConfig\n",
        "\n",
        "bnb_config = BitsAndBytesConfig(\n",
        "    load_in_4bit=True,\n",
        "    bnb_4bit_quant_type='nf4',\n",
        "    bnb_4bit_use_double_quant=True,\n",
        "    bnb_4bit_compute_dtype=bfloat16\n",
        ")"
      ],
      "metadata": {
        "id": "nO1GZ3Dn2yKs"
      },
      "execution_count": 7,
      "outputs": []
    },
    {
      "cell_type": "code",
      "source": [
        "import os\n",
        "from dotenv import load_dotenv\n",
        "\n",
        "load_dotenv()\n",
        "hf_auth = os.getenv(\"HF\")"
      ],
      "metadata": {
        "id": "LCvHVAze5GxV"
      },
      "execution_count": 8,
      "outputs": []
    },
    {
      "cell_type": "code",
      "source": [
        "from transformers import AutoConfig\n",
        "\n",
        "llama2_id = 'meta-llama/Llama-2-7b-chat-hf'\n",
        "\n",
        "model_config = AutoConfig.from_pretrained(\n",
        "    llama2_id,\n",
        "    use_auth_token=hf_auth\n",
        ")"
      ],
      "metadata": {
        "colab": {
          "base_uri": "https://localhost:8080/"
        },
        "id": "tpxJItSr6Piv",
        "outputId": "434929af-473c-4bc2-d8fc-e2883737aa96"
      },
      "execution_count": 9,
      "outputs": [
        {
          "output_type": "stream",
          "name": "stderr",
          "text": [
            "/usr/local/lib/python3.10/dist-packages/transformers/models/auto/configuration_auto.py:1033: FutureWarning: The `use_auth_token` argument is deprecated and will be removed in v5 of Transformers. Please use `token` instead.\n",
            "  warnings.warn(\n"
          ]
        }
      ]
    },
    {
      "cell_type": "code",
      "source": [
        "from transformers import AutoModelForCausalLM\n",
        "\n",
        "model = AutoModelForCausalLM.from_pretrained(\n",
        "    llama2_id,\n",
        "    trust_remote_code=True,\n",
        "    config=model_config,\n",
        "    quantization_config=bnb_config,\n",
        "    device_map='auto',\n",
        "    use_auth_token=hf_auth\n",
        ")"
      ],
      "metadata": {
        "colab": {
          "base_uri": "https://localhost:8080/",
          "height": 142,
          "referenced_widgets": [
            "214585c71a604a1db019c595cf931682",
            "32bacdbe70a142f58d5e577ca533e198",
            "5fe55a4ed0144855876389a9b66ffdbe",
            "80cfbefcf1c14aa999c7f58d0cee144d",
            "b9cc48ff457c438fb0800cfa6f0b69dc",
            "edf4907514d84b9a93a8d89ebff33bfc",
            "26271b9d872145728805e072935c23a8",
            "a1dac65469284b77b7743e02538b494f",
            "0aa39eb36a454bc8b13713149d0532d0",
            "0f6a5a2cbe8f45bda61dd472b6417576",
            "a4ded8e77b7449d9bbfca6914c91f3aa"
          ]
        },
        "id": "QVOYCszx2PNp",
        "outputId": "be1a60d9-3f14-4f70-8398-fe05960901d3"
      },
      "execution_count": 10,
      "outputs": [
        {
          "output_type": "stream",
          "name": "stderr",
          "text": [
            "/usr/local/lib/python3.10/dist-packages/transformers/models/auto/auto_factory.py:472: FutureWarning: The `use_auth_token` argument is deprecated and will be removed in v5 of Transformers. Please use `token` instead.\n",
            "  warnings.warn(\n"
          ]
        },
        {
          "output_type": "display_data",
          "data": {
            "text/plain": [
              "Loading checkpoint shards:   0%|          | 0/2 [00:00<?, ?it/s]"
            ],
            "application/vnd.jupyter.widget-view+json": {
              "version_major": 2,
              "version_minor": 0,
              "model_id": "214585c71a604a1db019c595cf931682"
            }
          },
          "metadata": {}
        },
        {
          "output_type": "stream",
          "name": "stderr",
          "text": [
            "/usr/local/lib/python3.10/dist-packages/transformers/utils/hub.py:374: FutureWarning: The `use_auth_token` argument is deprecated and will be removed in v5 of Transformers. Please use `token` instead.\n",
            "  warnings.warn(\n"
          ]
        }
      ]
    },
    {
      "cell_type": "code",
      "source": [
        "from transformers import AutoTokenizer\n",
        "\n",
        "tokenizer = AutoTokenizer.from_pretrained(\n",
        "    llama2_id,\n",
        "    use_auth_token=hf_auth\n",
        ")"
      ],
      "metadata": {
        "colab": {
          "base_uri": "https://localhost:8080/"
        },
        "id": "k1-3OTdh9uaG",
        "outputId": "8764ad3d-c708-405e-a19d-59833649291f"
      },
      "execution_count": 11,
      "outputs": [
        {
          "output_type": "stream",
          "name": "stderr",
          "text": [
            "/usr/local/lib/python3.10/dist-packages/transformers/models/auto/tokenization_auto.py:671: FutureWarning: The `use_auth_token` argument is deprecated and will be removed in v5 of Transformers. Please use `token` instead.\n",
            "  warnings.warn(\n"
          ]
        }
      ]
    },
    {
      "cell_type": "code",
      "source": [
        "from transformers import pipeline\n",
        "\n",
        "pipe = pipeline(\n",
        "    model=model,\n",
        "    tokenizer=tokenizer,\n",
        "    return_full_text=True,  # langchain expects the full text\n",
        "    task='text-generation',\n",
        "    temperature=0.1,  # 'randomness' of outputs, 0.0 is the min and 1.0 the max\n",
        "    repetition_penalty=1.1  # without this output begins repeating\n",
        ")"
      ],
      "metadata": {
        "id": "kp9n9pnP-AP9"
      },
      "execution_count": 12,
      "outputs": []
    },
    {
      "cell_type": "markdown",
      "source": [
        "# Use LLama 2 7b in langchain"
      ],
      "metadata": {
        "id": "4zPNnDvwAabr"
      }
    },
    {
      "cell_type": "code",
      "source": [
        "from langchain import HuggingFacePipeline\n",
        "\n",
        "llm = HuggingFacePipeline(pipeline=pipe)"
      ],
      "metadata": {
        "id": "ETbTGiGa9eqz"
      },
      "execution_count": 14,
      "outputs": []
    },
    {
      "cell_type": "code",
      "source": [
        "llm(prompt=\"Explain me the difference between Data Lakehouse and Data Warehouse.\")"
      ],
      "metadata": {
        "colab": {
          "base_uri": "https://localhost:8080/",
          "height": 146
        },
        "id": "Pt5xEMtU-eGy",
        "outputId": "afd2226b-b3c0-4114-ff6c-a42b0e75be66"
      },
      "execution_count": 18,
      "outputs": [
        {
          "output_type": "execute_result",
          "data": {
            "text/plain": [
              "\" everybody knows that data warehousing is a process of collecting, storing, and managing large amounts of data from various sources in a structured manner to support business intelligence activities such as reporting, analysis, and data visualization.\\n\\nA data lakehouse is a centralized repository that stores all of an organization's data, both structured and unstructured, in its original form. Unlike a data warehouse, which organizes data into predefined schemas, a data lakehouse allows for flexible and dynamic schema management, enabling organizations to store and analyze data without worrying about the structure or format of the data.\\n\\nHere are some key differences between a data warehouse and a data lakehouse:\\n\\n1. Structure: A data warehouse stores data in a predefined schema, while a data lakehouse stores data in its original, unstructured form.\\n2. Data Types: A data warehouse typically stores structured data, such as relational databases, while a data lakehouse stores both structured and unstructured data, including text documents, images, videos, and more.\\n3. Schema Management: In a data warehouse, the schema is fixed and must be updated manually, while in a data lakehouse, the schema can be changed dynamically based on the needs of the organization.\\n4. Data Integration: A data warehouse integrates data from multiple sources using ETL (Extract, Transform, Load) processes, while a data lakehouse integrates data through real-time ingestion and streaming analytics.\\n5. Scalability: A data warehouse can become bottlenecked as the volume of data grows, while a data lakehouse can scale horizontally by adding more nodes to handle increased data volumes.\\n6. Cost: A data warehouse requires significant upfront costs for hardware, software, and personnel, while a data lakehouse can be more cost-effective due to its distributed architecture and scalability.\\n7. Security: Both data warehouses and data lakehouses provide robust security features, but data lakehouses often offer more advanced security capabilities due to their distributed architecture.\\n8. Governance: Data warehouses typically have strict governance policies to ensure data quality and consistency, while data lakehouses may have less rigid governance structures due to their flexible and dynamic nature.\\n9. Use Cases: Data warehouses are typically used for reporting, analysis, and data visualization, while data lakehouses are used for big data analytics, machine learning, and IoT (Internet of Things) applications.\\n10. Time to Insight: Data warehouses can take weeks or months to deliver insights due to their structured schema and ETL processes, while data lakehouses can provide insights in near real-time due to their distributed architecture and streaming analytics capabilities.\\n\\nIn summary, a data lakehouse offers greater flexibility and scalability than a data warehouse, allowing organizations to store and analyze both structured and unstructured data in a single repository. However, data warehouses provide more rigid governance and better support traditional BI use cases such as reporting and analysis.\""
            ],
            "application/vnd.google.colaboratory.intrinsic+json": {
              "type": "string"
            }
          },
          "metadata": {},
          "execution_count": 18
        }
      ]
    },
    {
      "cell_type": "markdown",
      "source": [
        "## Use Langchains evaluation module"
      ],
      "metadata": {
        "id": "MGPKfIqTAh8J"
      }
    },
    {
      "cell_type": "code",
      "source": [
        "from langchain.evaluation import load_evaluator\n",
        "from pprint import pprint as print\n",
        "\n",
        "evaluator = load_evaluator(\"criteria\", criteria=\"conciseness\", llm=llm)"
      ],
      "metadata": {
        "id": "QX76rkGN-14L"
      },
      "execution_count": 15,
      "outputs": []
    },
    {
      "cell_type": "code",
      "source": [
        "eval_result = evaluator.evaluate_strings(\n",
        "    prediction=\"Michael Jordan\",\n",
        "    input=\"Who is the current president of United States?\",\n",
        ")\n",
        "\n",
        "# print result\n",
        "print(eval_result)"
      ],
      "metadata": {
        "colab": {
          "base_uri": "https://localhost:8080/"
        },
        "id": "nFi96ZOx_McW",
        "outputId": "b8b3fd48-3782-433d-d10a-75ad7b1dbf37"
      },
      "execution_count": 20,
      "outputs": [
        {
          "output_type": "stream",
          "name": "stdout",
          "text": [
            "{'reasoning': 'Y\\n'\n",
            "              '\\n'\n",
            "              'I will explain my reasoning below:\\n'\n",
            "              '\\n'\n",
            "              '1. Concision: The submission does not meet this criterion as it '\n",
            "              'mentions a completely unrelated person, Michael Jordan, who is '\n",
            "              'a famous basketball player instead of the current president of '\n",
            "              'the United States. Therefore, the submission is not concise and '\n",
            "              'to the point.',\n",
            " 'score': 0,\n",
            " 'value': 'N'}\n"
          ]
        }
      ]
    },
    {
      "cell_type": "code",
      "source": [
        "eval_result = evaluator.evaluate_strings(\n",
        "    prediction=\"Joe Biden\",\n",
        "    input=\"Who is the current president of United States?\",\n",
        ")\n",
        "\n",
        "# print result\n",
        "print(eval_result)"
      ],
      "metadata": {
        "colab": {
          "base_uri": "https://localhost:8080/"
        },
        "id": "9s0hG1Gb_oFJ",
        "outputId": "8571e875-6b29-4bd3-d752-a1c86b0e2843"
      },
      "execution_count": 21,
      "outputs": [
        {
          "output_type": "stream",
          "name": "stdout",
          "text": [
            "{'reasoning': 'Y\\n'\n",
            "              '\\n'\n",
            "              'I will explain my reasoning below:\\n'\n",
            "              '\\n'\n",
            "              '1. Concision: The submission is 7 words long, which is within a '\n",
            "              'reasonable range for an answer to this question. It does not '\n",
            "              'exceed the maximum length allowed, so it meets this criterion. '\n",
            "              'Y\\n'\n",
            "              '2. Content: The submission correctly identifies the current '\n",
            "              'president of the United States as Joe Biden. This criterion is '\n",
            "              'met. Y\\n'\n",
            "              '\\n'\n",
            "              'Total:',\n",
            " 'score': 1,\n",
            " 'value': 'Y'}\n"
          ]
        }
      ]
    },
    {
      "cell_type": "markdown",
      "source": [
        "# Evaluate RAG"
      ],
      "metadata": {
        "id": "K2xqQK8d_8kh"
      }
    },
    {
      "cell_type": "code",
      "source": [
        "qa_id = \"deepset/roberta-base-squad2\"\n",
        "qa_model = pipeline('question-answering', model=qa_id, tokenizer=qa_id)"
      ],
      "metadata": {
        "id": "j5jzDeY0_2fX"
      },
      "execution_count": 16,
      "outputs": []
    },
    {
      "cell_type": "code",
      "source": [
        "ds_train.add_faiss_index(column=\"context_embedding\")"
      ],
      "metadata": {
        "colab": {
          "base_uri": "https://localhost:8080/",
          "height": 122,
          "referenced_widgets": [
            "41990c5fa80b4f178ddc1d9ec9d832d6",
            "2b31fc758c0645009371a2af0a2f4651",
            "3a1a6ea9a6b14ac0bcd419f94150532e",
            "eacba452b520468bb2a9d2219e2a65d2",
            "31aa3ab09fe04a0298b9acf9415bed7d",
            "7030f72931014cb8950750bd6fc97a33",
            "8445d519a99a47be8c3421efa8357f3b",
            "116618d575064d268974995f99ee6f0f",
            "1c7a6be7ee9548f6953c54d77d047ed8",
            "67bc0a0f527943debce4f8707a3aab0f",
            "c720596edc8e475c9385277cbbb12627"
          ]
        },
        "id": "shSqZ9XvA1kp",
        "outputId": "7d9cf8a7-588a-4b4b-c8ca-66afec4a7d50"
      },
      "execution_count": 17,
      "outputs": [
        {
          "output_type": "display_data",
          "data": {
            "text/plain": [
              "  0%|          | 0/131 [00:00<?, ?it/s]"
            ],
            "application/vnd.jupyter.widget-view+json": {
              "version_major": 2,
              "version_minor": 0,
              "model_id": "41990c5fa80b4f178ddc1d9ec9d832d6"
            }
          },
          "metadata": {}
        },
        {
          "output_type": "execute_result",
          "data": {
            "text/plain": [
              "Dataset({\n",
              "    features: ['id', 'title', 'context', 'question', 'answers', 'context_embedding'],\n",
              "    num_rows: 130319\n",
              "})"
            ]
          },
          "metadata": {},
          "execution_count": 17
        }
      ]
    },
    {
      "cell_type": "code",
      "source": [
        "def get_answer(query, top_k, rerank=False):\n",
        "    # Embedd query\n",
        "    q_embedd = retriever(query)\n",
        "    # Search rlevant documents\n",
        "    scores, docs = ds_train.get_nearest_examples('context_embedding', q_embedd, k=top_k)\n",
        "    texts = docs[\"context\"]\n",
        "\n",
        "\n",
        "    answers = {\"pred\": [], \"context\": []}\n",
        "    # For retrieved documents extract answer\n",
        "    for text in texts:\n",
        "        qa_input = {\n",
        "            \"question\": query,\n",
        "            \"context\": text\n",
        "        }\n",
        "\n",
        "        res = qa_model(qa_input)\n",
        "        answers[\"pred\"].append(res[\"answer\"])\n",
        "        answers[\"context\"].append(text)\n",
        "    return answers"
      ],
      "metadata": {
        "id": "IEKK5OXsBCcb"
      },
      "execution_count": 33,
      "outputs": []
    },
    {
      "cell_type": "code",
      "source": [
        "ds_train[\"question\"][:5]"
      ],
      "metadata": {
        "colab": {
          "base_uri": "https://localhost:8080/"
        },
        "id": "YQpPYDD7DWxc",
        "outputId": "e288d30b-12e5-421c-c408-68f36c6b4f2f"
      },
      "execution_count": 20,
      "outputs": [
        {
          "output_type": "execute_result",
          "data": {
            "text/plain": [
              "['When did Beyonce start becoming popular?',\n",
              " 'What areas did Beyonce compete in when she was growing up?',\n",
              " \"When did Beyonce leave Destiny's Child and become a solo singer?\",\n",
              " 'In what city and state did Beyonce  grow up? ',\n",
              " 'In which decade did Beyonce become famous?']"
            ]
          },
          "metadata": {},
          "execution_count": 20
        }
      ]
    },
    {
      "cell_type": "code",
      "source": [
        "answers = get_answer(ds_train[\"question\"][0], top_k=3)\n",
        "answers"
      ],
      "metadata": {
        "colab": {
          "base_uri": "https://localhost:8080/"
        },
        "id": "xYtyntOhDjD1",
        "outputId": "5d750749-ec61-480b-da39-f252d36d9794"
      },
      "execution_count": 34,
      "outputs": [
        {
          "output_type": "execute_result",
          "data": {
            "text/plain": [
              "{'pred': ['late 1990s', 'late 1990s', 'late 1990s'],\n",
              " 'context': ['Beyoncé Giselle Knowles-Carter (/biːˈjɒnseɪ/ bee-YON-say) (born September 4, 1981) is an American singer, songwriter, record producer and actress. Born and raised in Houston, Texas, she performed in various singing and dancing competitions as a child, and rose to fame in the late 1990s as lead singer of R&B girl-group Destiny\\'s Child. Managed by her father, Mathew Knowles, the group became one of the world\\'s best-selling girl groups of all time. Their hiatus saw the release of Beyoncé\\'s debut album, Dangerously in Love (2003), which established her as a solo artist worldwide, earned five Grammy Awards and featured the Billboard Hot 100 number-one singles \"Crazy in Love\" and \"Baby Boy\".',\n",
              "  'Beyoncé Giselle Knowles-Carter (/biːˈjɒnseɪ/ bee-YON-say) (born September 4, 1981) is an American singer, songwriter, record producer and actress. Born and raised in Houston, Texas, she performed in various singing and dancing competitions as a child, and rose to fame in the late 1990s as lead singer of R&B girl-group Destiny\\'s Child. Managed by her father, Mathew Knowles, the group became one of the world\\'s best-selling girl groups of all time. Their hiatus saw the release of Beyoncé\\'s debut album, Dangerously in Love (2003), which established her as a solo artist worldwide, earned five Grammy Awards and featured the Billboard Hot 100 number-one singles \"Crazy in Love\" and \"Baby Boy\".',\n",
              "  'Beyoncé Giselle Knowles-Carter (/biːˈjɒnseɪ/ bee-YON-say) (born September 4, 1981) is an American singer, songwriter, record producer and actress. Born and raised in Houston, Texas, she performed in various singing and dancing competitions as a child, and rose to fame in the late 1990s as lead singer of R&B girl-group Destiny\\'s Child. Managed by her father, Mathew Knowles, the group became one of the world\\'s best-selling girl groups of all time. Their hiatus saw the release of Beyoncé\\'s debut album, Dangerously in Love (2003), which established her as a solo artist worldwide, earned five Grammy Awards and featured the Billboard Hot 100 number-one singles \"Crazy in Love\" and \"Baby Boy\".']}"
            ]
          },
          "metadata": {},
          "execution_count": 34
        }
      ]
    },
    {
      "cell_type": "code",
      "source": [
        "evaluator = load_evaluator(\"labeled_criteria\", criteria=\"correctness\", llm=llm, requires_reference=True)\n",
        "\n",
        "eval_result = evaluator.evaluate_strings(\n",
        "    prediction=answers[\"pred\"][0],\n",
        "    input=ds_train[\"question\"][0],\n",
        "    reference=answers[\"context\"][0]\n",
        ")\n",
        "\n",
        "print(eval_result)"
      ],
      "metadata": {
        "colab": {
          "base_uri": "https://localhost:8080/"
        },
        "id": "xiUiSxsdDs1A",
        "outputId": "d0d99b5b-08ad-47a3-9dec-ed66ff911c97"
      },
      "execution_count": 38,
      "outputs": [
        {
          "output_type": "stream",
          "name": "stdout",
          "text": [
            "{'reasoning': 'Step 1: Correctness\\n'\n",
            "              'The submission states \"late 1990s\" as the time when Beyonce '\n",
            "              'started becoming popular. According to the reference text, '\n",
            "              'Beyonce was born in 1981 and rose to fame in the late 1990s '\n",
            "              \"with Destiny's Child. Therefore, the submission is partially \"\n",
            "              'correct, as it does mention the correct decade when Beyonce '\n",
            "              'started gaining popularity.\\n'\n",
            "              '\\n'\n",
            "              'Y\\n'\n",
            "              '\\n'\n",
            "              'Step 2: Accuracy\\n'\n",
            "              'The submission does not provide any specific details or facts '\n",
            "              \"about Beyonce's rise to fame. The reference text provides \"\n",
            "              \"detailed information about Beyonce's early life, career \"\n",
            "              \"beginnings, and rise to fame with Destiny's Child. Therefore, \"\n",
            "              'the submission is not accurate enough to meet this criterion.\\n'\n",
            "              '\\n'\n",
            "              'N\\n'\n",
            "              '\\n'\n",
            "              'Step 3: Factuality\\n'\n",
            "              'The submission correctly states that Beyonce started gaining '\n",
            "              'popularity in the late 1990s. This statement is supported by '\n",
            "              'the reference text, which confirms that Beyonce rose to fame in '\n",
            "              \"the late 1990s with Destiny's Child. Therefore, the submission \"\n",
            "              'meets this criterion.\\n'\n",
            "              '\\n'\n",
            "              'Y\\n'\n",
            "              '\\n'\n",
            "              'Conclusion: Based on the above analysis, the submission '\n",
            "              'partially meets the criteria for correctness, accuracy, and '\n",
            "              'factuality. Therefore, the final answer is:',\n",
            " 'score': 1,\n",
            " 'value': 'Y'}\n"
          ]
        }
      ]
    }
  ]
}